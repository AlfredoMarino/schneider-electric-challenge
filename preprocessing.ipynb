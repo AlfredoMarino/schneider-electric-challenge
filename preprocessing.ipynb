{
 "cells": [
  {
   "cell_type": "code",
   "execution_count": 16,
   "metadata": {
    "collapsed": true
   },
   "outputs": [],
   "source": [
    "import pandas as pd\n",
    "import numpy as np"
   ]
  },
  {
   "cell_type": "markdown",
   "source": [
    "## Configuration"
   ],
   "metadata": {
    "collapsed": false,
    "pycharm": {
     "name": "#%% md\n"
    }
   }
  },
  {
   "cell_type": "code",
   "execution_count": 17,
   "outputs": [],
   "source": [
    "TARGET = \"pollutant\"\n",
    "DATA_PATH = \"datasets\"\n",
    "\n",
    "API_URLS = [\n",
    "    \"http://schneiderapihack-env.eba-3ais9akk.us-east-2.elasticbeanstalk.com/first\",\n",
    "    \"http://schneiderapihack-env.eba-3ais9akk.us-east-2.elasticbeanstalk.com/second\",\n",
    "    \"http://schneiderapihack-env.eba-3ais9akk.us-east-2.elasticbeanstalk.com/third\"\n",
    "]\n",
    "\n",
    "DATASET_DTYPES = {\n",
    "    \"CITY ID\": \"object\",\n",
    "    \"CONTINENT\": \"object\",\n",
    "    \"City\": \"object\",\n",
    "    \"DAY\": \"int8\",\n",
    "    \"DAY WITH FOGS\": \"int8\",\n",
    "    \"EPRTRAnnexIMainActivityCode\": \"object\",\n",
    "    \"EPRTRAnnexIMainActivityLabel\": \"object\",\n",
    "    \"EPRTRSectorCode\": \"int8\",\n",
    "    \"FacilityInspireID\": \"object\",\n",
    "    \"MONTH\": \"int8\",\n",
    "    \"REPORTER NAME\": \"object\",\n",
    "    \"avg_temp\": \"float64\",\n",
    "    \"avg_wind_speed\": \"float64\",\n",
    "    \"countryName\": \"object\",\n",
    "    \"eprtrSectorName\": \"object\",\n",
    "    \"facilityName\": \"object\",\n",
    "    \"max_temp\": \"float64\",\n",
    "    \"max_wind_speed\": \"float64\",\n",
    "    \"min_temp\": \"float64\",\n",
    "    \"min_wind_speed\": \"float64\",\n",
    "    \"pollutant\": \"object\",\n",
    "    \"reportingYear\": \"int8\",\n",
    "    \"targetRelease\": \"object\"\n",
    "}"
   ],
   "metadata": {
    "collapsed": false,
    "pycharm": {
     "name": "#%%\n"
    }
   }
  },
  {
   "cell_type": "markdown",
   "source": [
    "## Classes"
   ],
   "metadata": {
    "collapsed": false,
    "pycharm": {
     "name": "#%% md\n"
    }
   }
  },
  {
   "cell_type": "code",
   "source": [
    "class ApiDataConsumer:\n",
    "\n",
    "    def __init__(self, urls, dtypes = None):\n",
    "        self.urls = urls\n",
    "        self.dtypes = dtypes\n",
    "\n",
    "    def get_api_df(self, verbose: bool = True):\n",
    "        if verbose:\n",
    "            print(\"Getting data from API\")\n",
    "        api_df = None\n",
    "        for url in self.urls:\n",
    "            json_df = pd.read_json(url, dtype=self.dtypes)\n",
    "            json_df = json_df.drop(\"\", axis=1)\n",
    "\n",
    "            if verbose:\n",
    "                print(f\"url: {url} json_df.shape: {json_df.shape}\")\n",
    "\n",
    "            if api_df is not None:\n",
    "                api_df = pd.concat([api_df, json_df])\n",
    "            else:\n",
    "                api_df = json_df\n",
    "\n",
    "        return api_df\n",
    "\n",
    "\n",
    "class FeatureGenerator:\n",
    "\n",
    "    def __init__(self, df: pd.DataFrame):\n",
    "        self.df = df.copy(deep=True)\n",
    "\n",
    "    def encode(self, columns, agg_func = None) -> pd.DataFrame:\n",
    "        if agg_func is None:\n",
    "            agg_func = self.__my_agg\n",
    "\n",
    "        for column in columns:\n",
    "            gb_df_ = self.df.groupby(column).apply(agg_func, column_name=column).reset_index()\n",
    "            self.df = pd.merge(left=self.df, right=gb_df_, on=column, how=\"left\")\n",
    "\n",
    "        return self.df.drop(columns, axis=1)\n",
    "\n",
    "    @staticmethod\n",
    "    def __my_agg(full_df_: pd.DataFrame, column_name: str) -> pd.Series:\n",
    "        column_name = column_name.replace(\" \", \"_\").lower()\n",
    "        names = {\n",
    "            '{}_avg_temperature'.format(column_name):  full_df_['avg_temp'].mean(),\n",
    "            '{}_avg_wind_speed'.format(column_name):  full_df_['avg_wind_speed'].mean(),\n",
    "        }\n",
    "        return pd.Series(names, index = [key for key in names.keys()])"
   ],
   "metadata": {
    "collapsed": false,
    "pycharm": {
     "name": "#%%\n"
    }
   },
   "execution_count": 18,
   "outputs": []
  },
  {
   "cell_type": "markdown",
   "source": [
    "## Functions"
   ],
   "metadata": {
    "collapsed": false,
    "pycharm": {
     "name": "#%% md\n"
    }
   }
  },
  {
   "cell_type": "code",
   "execution_count": 19,
   "outputs": [],
   "source": [
    "def one_hot_encode(dataframe: pd.DataFrame, column_name: str) -> pd.DataFrame:\n",
    "    _dummy_dataset = pd.get_dummies(dataframe[column_name], prefix=column_name)\n",
    "    return pd.concat([dataframe, _dummy_dataset], axis=1).drop([column_name], axis=1)\n",
    "\n",
    "def encode_dataframe(dataframe: pd.DataFrame, cat_columns) -> pd.DataFrame:\n",
    "    print(f\"columns to encode: {cat_columns}\")\n",
    "\n",
    "    print(f\"dataframe before one-hot encoding: {dataframe.shape}\")\n",
    "    for cat_col in cat_columns:\n",
    "        dataframe = one_hot_encode(dataframe, cat_col)\n",
    "\n",
    "    print(f\"dataframe after one-hot encoding:  {dataframe.shape}\")\n",
    "    return dataframe"
   ],
   "metadata": {
    "collapsed": false,
    "pycharm": {
     "name": "#%%\n"
    }
   }
  },
  {
   "cell_type": "markdown",
   "source": [
    "## Load data"
   ],
   "metadata": {
    "collapsed": false,
    "pycharm": {
     "name": "#%% md\n"
    }
   }
  },
  {
   "cell_type": "code",
   "execution_count": 20,
   "outputs": [],
   "source": [
    "apiDataConsumer = ApiDataConsumer(API_URLS, DATASET_DTYPES)"
   ],
   "metadata": {
    "collapsed": false,
    "pycharm": {
     "name": "#%%\n"
    }
   }
  },
  {
   "cell_type": "code",
   "execution_count": 21,
   "outputs": [
    {
     "name": "stdout",
     "output_type": "stream",
     "text": [
      "* train1 loaded... shape: (18563, 21)\n",
      "* train2 loaded... shape: (18564, 21)\n",
      "* api_df loaded... shape: (28501, 23)\n",
      "Wall time: 6.49 s\n"
     ]
    }
   ],
   "source": [
    "%%time\n",
    "train1_df = pd.read_csv(f\"{DATA_PATH}/train1.csv\", dtype=DATASET_DTYPES)\n",
    "print('* train1 loaded... shape:', train1_df.shape)\n",
    "\n",
    "train2_df = pd.read_csv(f\"{DATA_PATH}/train2.csv\", dtype=DATASET_DTYPES, sep=\";\")\n",
    "print('* train2 loaded... shape:', train2_df.shape)\n",
    "\n",
    "api_df = apiDataConsumer.get_api_df(verbose=False)\n",
    "print('* api_df loaded... shape:', api_df.shape)"
   ],
   "metadata": {
    "collapsed": false,
    "pycharm": {
     "name": "#%%\n"
    }
   }
  },
  {
   "cell_type": "code",
   "execution_count": 22,
   "outputs": [
    {
     "name": "stdout",
     "output_type": "stream",
     "text": [
      "* raw_df shape: (65628, 23)\n"
     ]
    },
    {
     "data": {
      "text/plain": "  countryName                  eprtrSectorName  \\\n0     Germany                 Mineral industry   \n1       Italy                 Mineral industry   \n2       Spain  Waste and wastewater management   \n3     Czechia                    Energy sector   \n4     Finland  Waste and wastewater management   \n\n                        EPRTRAnnexIMainActivityLabel  \\\n0  Installations for the production of cement cli...   \n1  Installations for the production of cement cli...   \n2  Landfills (excluding landfills of inert waste ...   \n3  Thermal power stations and other combustion in...   \n4                 Urban waste-water treatment plants   \n\n                                   FacilityInspireID  \\\n0  https://registry.gdi-de.org/id/de.ni.mu/062217...   \n1                         IT.CAED/240602021.FACILITY   \n2                         ES.CAED/001966000.FACILITY   \n3                    CZ.MZP.U422/CZ34736841.FACILITY   \n4  http://paikkatiedot.fi/so/1002031/pf/Productio...   \n\n                                        facilityName                  City  \\\n0               Holcim (Deutschland) GmbH Werk Höver                Sehnde   \n1               Stabilimento di Tavernola Bergamasca  TAVERNOLA BERGAMASCA   \n2                  COMPLEJO MEDIOAMBIENTAL DE ZURITA    PUERTO DEL ROSARIO   \n3                                Elektrárny Prunéřov                 Kadaň   \n4  TAMPEREEN VESI LIIKELAITOS, VIINIKANLAHDEN JÄT...               Tampere   \n\n  targetRelease              pollutant  reportingYear  MONTH  ...  \\\n0           AIR   Carbon dioxide (CO2)            -33     10  ...   \n1           AIR  Nitrogen oxides (NOX)            -30      9  ...   \n2           AIR          Methane (CH4)            -29      2  ...   \n3           AIR  Nitrogen oxides (NOX)            -36      8  ...   \n4           AIR          Methane (CH4)            -30     12  ...   \n\n   avg_wind_speed min_wind_speed   max_temp   avg_temp   min_temp  \\\n0       14.312541      21.419106   2.864895   4.924169   9.688206   \n1       19.368166      21.756389   5.462839   7.864403  12.023521   \n2       14.701985      17.103930   1.511201   4.233438   8.632193   \n3       16.122584      17.537184  10.970301  10.298348  15.179215   \n4       20.201604      21.536012  11.772039  11.344078  16.039004   \n\n   DAY WITH FOGS     REPORTER NAME                           CITY ID  \\\n0              2  Mr. Jacob Ortega  7cdb5e74adcb2ffaa21c1b61395a984f   \n1              1    Ashlee Serrano  cd1dbabbdba230b828c657a9b19a8963   \n2              2      Vincent Kemp  5011e3fa1436d15b34f1287f312fbada   \n3              0        Carol Gray  37a6d7a71c4f7c2469e4f01b70dd90c2   \n4              2        Blake Ford  471fe554e1c62d1b01cc8e4e5076c61a   \n\n   EPRTRAnnexIMainActivityCode EPRTRSectorCode  \n0                          NaN             NaN  \n1                          NaN             NaN  \n2                          NaN             NaN  \n3                          NaN             NaN  \n4                          NaN             NaN  \n\n[5 rows x 23 columns]",
      "text/html": "<div>\n<style scoped>\n    .dataframe tbody tr th:only-of-type {\n        vertical-align: middle;\n    }\n\n    .dataframe tbody tr th {\n        vertical-align: top;\n    }\n\n    .dataframe thead th {\n        text-align: right;\n    }\n</style>\n<table border=\"1\" class=\"dataframe\">\n  <thead>\n    <tr style=\"text-align: right;\">\n      <th></th>\n      <th>countryName</th>\n      <th>eprtrSectorName</th>\n      <th>EPRTRAnnexIMainActivityLabel</th>\n      <th>FacilityInspireID</th>\n      <th>facilityName</th>\n      <th>City</th>\n      <th>targetRelease</th>\n      <th>pollutant</th>\n      <th>reportingYear</th>\n      <th>MONTH</th>\n      <th>...</th>\n      <th>avg_wind_speed</th>\n      <th>min_wind_speed</th>\n      <th>max_temp</th>\n      <th>avg_temp</th>\n      <th>min_temp</th>\n      <th>DAY WITH FOGS</th>\n      <th>REPORTER NAME</th>\n      <th>CITY ID</th>\n      <th>EPRTRAnnexIMainActivityCode</th>\n      <th>EPRTRSectorCode</th>\n    </tr>\n  </thead>\n  <tbody>\n    <tr>\n      <th>0</th>\n      <td>Germany</td>\n      <td>Mineral industry</td>\n      <td>Installations for the production of cement cli...</td>\n      <td>https://registry.gdi-de.org/id/de.ni.mu/062217...</td>\n      <td>Holcim (Deutschland) GmbH Werk Höver</td>\n      <td>Sehnde</td>\n      <td>AIR</td>\n      <td>Carbon dioxide (CO2)</td>\n      <td>-33</td>\n      <td>10</td>\n      <td>...</td>\n      <td>14.312541</td>\n      <td>21.419106</td>\n      <td>2.864895</td>\n      <td>4.924169</td>\n      <td>9.688206</td>\n      <td>2</td>\n      <td>Mr. Jacob Ortega</td>\n      <td>7cdb5e74adcb2ffaa21c1b61395a984f</td>\n      <td>NaN</td>\n      <td>NaN</td>\n    </tr>\n    <tr>\n      <th>1</th>\n      <td>Italy</td>\n      <td>Mineral industry</td>\n      <td>Installations for the production of cement cli...</td>\n      <td>IT.CAED/240602021.FACILITY</td>\n      <td>Stabilimento di Tavernola Bergamasca</td>\n      <td>TAVERNOLA BERGAMASCA</td>\n      <td>AIR</td>\n      <td>Nitrogen oxides (NOX)</td>\n      <td>-30</td>\n      <td>9</td>\n      <td>...</td>\n      <td>19.368166</td>\n      <td>21.756389</td>\n      <td>5.462839</td>\n      <td>7.864403</td>\n      <td>12.023521</td>\n      <td>1</td>\n      <td>Ashlee Serrano</td>\n      <td>cd1dbabbdba230b828c657a9b19a8963</td>\n      <td>NaN</td>\n      <td>NaN</td>\n    </tr>\n    <tr>\n      <th>2</th>\n      <td>Spain</td>\n      <td>Waste and wastewater management</td>\n      <td>Landfills (excluding landfills of inert waste ...</td>\n      <td>ES.CAED/001966000.FACILITY</td>\n      <td>COMPLEJO MEDIOAMBIENTAL DE ZURITA</td>\n      <td>PUERTO DEL ROSARIO</td>\n      <td>AIR</td>\n      <td>Methane (CH4)</td>\n      <td>-29</td>\n      <td>2</td>\n      <td>...</td>\n      <td>14.701985</td>\n      <td>17.103930</td>\n      <td>1.511201</td>\n      <td>4.233438</td>\n      <td>8.632193</td>\n      <td>2</td>\n      <td>Vincent Kemp</td>\n      <td>5011e3fa1436d15b34f1287f312fbada</td>\n      <td>NaN</td>\n      <td>NaN</td>\n    </tr>\n    <tr>\n      <th>3</th>\n      <td>Czechia</td>\n      <td>Energy sector</td>\n      <td>Thermal power stations and other combustion in...</td>\n      <td>CZ.MZP.U422/CZ34736841.FACILITY</td>\n      <td>Elektrárny Prunéřov</td>\n      <td>Kadaň</td>\n      <td>AIR</td>\n      <td>Nitrogen oxides (NOX)</td>\n      <td>-36</td>\n      <td>8</td>\n      <td>...</td>\n      <td>16.122584</td>\n      <td>17.537184</td>\n      <td>10.970301</td>\n      <td>10.298348</td>\n      <td>15.179215</td>\n      <td>0</td>\n      <td>Carol Gray</td>\n      <td>37a6d7a71c4f7c2469e4f01b70dd90c2</td>\n      <td>NaN</td>\n      <td>NaN</td>\n    </tr>\n    <tr>\n      <th>4</th>\n      <td>Finland</td>\n      <td>Waste and wastewater management</td>\n      <td>Urban waste-water treatment plants</td>\n      <td>http://paikkatiedot.fi/so/1002031/pf/Productio...</td>\n      <td>TAMPEREEN VESI LIIKELAITOS, VIINIKANLAHDEN JÄT...</td>\n      <td>Tampere</td>\n      <td>AIR</td>\n      <td>Methane (CH4)</td>\n      <td>-30</td>\n      <td>12</td>\n      <td>...</td>\n      <td>20.201604</td>\n      <td>21.536012</td>\n      <td>11.772039</td>\n      <td>11.344078</td>\n      <td>16.039004</td>\n      <td>2</td>\n      <td>Blake Ford</td>\n      <td>471fe554e1c62d1b01cc8e4e5076c61a</td>\n      <td>NaN</td>\n      <td>NaN</td>\n    </tr>\n  </tbody>\n</table>\n<p>5 rows × 23 columns</p>\n</div>"
     },
     "execution_count": 22,
     "metadata": {},
     "output_type": "execute_result"
    }
   ],
   "source": [
    "raw_df = pd.concat([train1_df, train2_df, api_df], axis=0)\n",
    "print('* raw_df shape:', raw_df.shape)\n",
    "raw_df.head()"
   ],
   "metadata": {
    "collapsed": false,
    "pycharm": {
     "name": "#%%\n"
    }
   }
  },
  {
   "cell_type": "markdown",
   "source": [
    "## Preprocessing"
   ],
   "metadata": {
    "collapsed": false,
    "pycharm": {
     "name": "#%% md\n"
    }
   }
  },
  {
   "cell_type": "code",
   "execution_count": 23,
   "outputs": [],
   "source": [
    "prep_df = raw_df.copy(deep=True)"
   ],
   "metadata": {
    "collapsed": false,
    "pycharm": {
     "name": "#%%\n"
    }
   }
  },
  {
   "cell_type": "code",
   "execution_count": 24,
   "outputs": [
    {
     "data": {
      "text/plain": "                              count unique  \\\ncountryName                   65628     32   \neprtrSectorName               65628      9   \nEPRTRAnnexIMainActivityLabel  65628     71   \nFacilityInspireID             65628   7185   \nfacilityName                  65628   7930   \nCity                          65628   5136   \ntargetRelease                 65628      1   \npollutant                     65628      3   \nCONTINENT                     65628      1   \nREPORTER NAME                 65628  45016   \nCITY ID                       65628   5136   \nEPRTRAnnexIMainActivityCode   28501     70   \n\n                                                                            top  \\\ncountryName                                                      United Kingdom   \neprtrSectorName                                                   Energy sector   \nEPRTRAnnexIMainActivityLabel  Thermal power stations and other combustion in...   \nFacilityInspireID             https://data.ied_registry.omgeving.vlaanderen....   \nfacilityName                                             Enel Produzione S.p.A.   \nCity                                                                         --   \ntargetRelease                                                               AIR   \npollutant                                                 Nitrogen oxides (NOX)   \nCONTINENT                                                                EUROPE   \nREPORTER NAME                                                     Michael Brown   \nCITY ID                                        cfab1ba8c67c7c838db98d666f02a132   \nEPRTRAnnexIMainActivityCode                                                1(c)   \n\n                               freq  \ncountryName                    9016  \neprtrSectorName               24562  \nEPRTRAnnexIMainActivityLabel  21527  \nFacilityInspireID                42  \nfacilityName                    234  \nCity                           1975  \ntargetRelease                 65628  \npollutant                     25982  \nCONTINENT                     65628  \nREPORTER NAME                    25  \nCITY ID                        1975  \nEPRTRAnnexIMainActivityCode    9378  ",
      "text/html": "<div>\n<style scoped>\n    .dataframe tbody tr th:only-of-type {\n        vertical-align: middle;\n    }\n\n    .dataframe tbody tr th {\n        vertical-align: top;\n    }\n\n    .dataframe thead th {\n        text-align: right;\n    }\n</style>\n<table border=\"1\" class=\"dataframe\">\n  <thead>\n    <tr style=\"text-align: right;\">\n      <th></th>\n      <th>count</th>\n      <th>unique</th>\n      <th>top</th>\n      <th>freq</th>\n    </tr>\n  </thead>\n  <tbody>\n    <tr>\n      <th>countryName</th>\n      <td>65628</td>\n      <td>32</td>\n      <td>United Kingdom</td>\n      <td>9016</td>\n    </tr>\n    <tr>\n      <th>eprtrSectorName</th>\n      <td>65628</td>\n      <td>9</td>\n      <td>Energy sector</td>\n      <td>24562</td>\n    </tr>\n    <tr>\n      <th>EPRTRAnnexIMainActivityLabel</th>\n      <td>65628</td>\n      <td>71</td>\n      <td>Thermal power stations and other combustion in...</td>\n      <td>21527</td>\n    </tr>\n    <tr>\n      <th>FacilityInspireID</th>\n      <td>65628</td>\n      <td>7185</td>\n      <td>https://data.ied_registry.omgeving.vlaanderen....</td>\n      <td>42</td>\n    </tr>\n    <tr>\n      <th>facilityName</th>\n      <td>65628</td>\n      <td>7930</td>\n      <td>Enel Produzione S.p.A.</td>\n      <td>234</td>\n    </tr>\n    <tr>\n      <th>City</th>\n      <td>65628</td>\n      <td>5136</td>\n      <td>--</td>\n      <td>1975</td>\n    </tr>\n    <tr>\n      <th>targetRelease</th>\n      <td>65628</td>\n      <td>1</td>\n      <td>AIR</td>\n      <td>65628</td>\n    </tr>\n    <tr>\n      <th>pollutant</th>\n      <td>65628</td>\n      <td>3</td>\n      <td>Nitrogen oxides (NOX)</td>\n      <td>25982</td>\n    </tr>\n    <tr>\n      <th>CONTINENT</th>\n      <td>65628</td>\n      <td>1</td>\n      <td>EUROPE</td>\n      <td>65628</td>\n    </tr>\n    <tr>\n      <th>REPORTER NAME</th>\n      <td>65628</td>\n      <td>45016</td>\n      <td>Michael Brown</td>\n      <td>25</td>\n    </tr>\n    <tr>\n      <th>CITY ID</th>\n      <td>65628</td>\n      <td>5136</td>\n      <td>cfab1ba8c67c7c838db98d666f02a132</td>\n      <td>1975</td>\n    </tr>\n    <tr>\n      <th>EPRTRAnnexIMainActivityCode</th>\n      <td>28501</td>\n      <td>70</td>\n      <td>1(c)</td>\n      <td>9378</td>\n    </tr>\n  </tbody>\n</table>\n</div>"
     },
     "execution_count": 24,
     "metadata": {},
     "output_type": "execute_result"
    }
   ],
   "source": [
    "prep_df.describe(exclude=np.number).T"
   ],
   "metadata": {
    "collapsed": false,
    "pycharm": {
     "name": "#%%\n"
    }
   }
  },
  {
   "cell_type": "code",
   "execution_count": 25,
   "outputs": [
    {
     "name": "stdout",
     "output_type": "stream",
     "text": [
      "prep_df after drop columns (65628, 17)\n"
     ]
    }
   ],
   "source": [
    "to_remove = [\n",
    "    \"EPRTRSectorCode\",\n",
    "    \"EPRTRAnnexIMainActivityCode\",\n",
    "\n",
    "    \"targetRelease\",\n",
    "    \"City\",\n",
    "    \"CONTINENT\",\n",
    "\n",
    "    \"REPORTER NAME\" # TEMPORALMENTE, INVESTIGAR\n",
    "]\n",
    "\n",
    "prep_df = prep_df.drop(to_remove, axis=1)\n",
    "print(f\"prep_df after drop columns {prep_df.shape}\")"
   ],
   "metadata": {
    "collapsed": false,
    "pycharm": {
     "name": "#%%\n"
    }
   }
  },
  {
   "cell_type": "code",
   "execution_count": 26,
   "outputs": [],
   "source": [
    "feature_generator = FeatureGenerator(prep_df)"
   ],
   "metadata": {
    "collapsed": false,
    "pycharm": {
     "name": "#%%\n"
    }
   }
  },
  {
   "cell_type": "code",
   "execution_count": 27,
   "outputs": [
    {
     "name": "stdout",
     "output_type": "stream",
     "text": [
      "prep_df after encode (65628, 20)\n"
     ]
    }
   ],
   "source": [
    "to_encode = [\n",
    "    \"FacilityInspireID\",\n",
    "    \"facilityName\",\n",
    "    \"CITY ID\",\n",
    "]\n",
    "\n",
    "prep_df = feature_generator.encode(to_encode)\n",
    "print(f\"prep_df after encode {prep_df.shape}\")"
   ],
   "metadata": {
    "collapsed": false,
    "pycharm": {
     "name": "#%%\n"
    }
   }
  },
  {
   "cell_type": "code",
   "execution_count": 28,
   "outputs": [
    {
     "name": "stdout",
     "output_type": "stream",
     "text": [
      "columns to encode: ['countryName', 'eprtrSectorName', 'EPRTRAnnexIMainActivityLabel']\n",
      "dataframe before one-hot encoding: (65628, 20)\n",
      "dataframe after one-hot encoding:  (65628, 129)\n"
     ]
    }
   ],
   "source": [
    "to_one_hot_encode = [\n",
    "    \"countryName\",\n",
    "    \"eprtrSectorName\",\n",
    "    \"EPRTRAnnexIMainActivityLabel\"\n",
    "]\n",
    "\n",
    "prep_df = encode_dataframe(prep_df, to_one_hot_encode)"
   ],
   "metadata": {
    "collapsed": false,
    "pycharm": {
     "name": "#%%\n"
    }
   }
  },
  {
   "cell_type": "code",
   "execution_count": 29,
   "outputs": [],
   "source": [
    "dict_target = {\n",
    "    \"Nitrogen oxides (NOX)\": 0,\n",
    "    \"Carbon dioxide (CO2)\": 1,\n",
    "    \"Methane (CH4)\": 2,\n",
    "}\n",
    "prep_df[TARGET] = prep_df[TARGET].apply(lambda value: dict_target[value])"
   ],
   "metadata": {
    "collapsed": false,
    "pycharm": {
     "name": "#%%\n"
    }
   }
  },
  {
   "cell_type": "markdown",
   "source": [
    "## Modelling"
   ],
   "metadata": {
    "collapsed": false,
    "pycharm": {
     "name": "#%% md\n"
    }
   }
  },
  {
   "cell_type": "code",
   "execution_count": 30,
   "outputs": [],
   "source": [
    "train_df = prep_df.copy(deep=True)"
   ],
   "metadata": {
    "collapsed": false,
    "pycharm": {
     "name": "#%%\n"
    }
   }
  }
 ],
 "metadata": {
  "kernelspec": {
   "display_name": "Python 3",
   "language": "python",
   "name": "python3"
  },
  "language_info": {
   "codemirror_mode": {
    "name": "ipython",
    "version": 2
   },
   "file_extension": ".py",
   "mimetype": "text/x-python",
   "name": "python",
   "nbconvert_exporter": "python",
   "pygments_lexer": "ipython2",
   "version": "2.7.6"
  }
 },
 "nbformat": 4,
 "nbformat_minor": 0
}