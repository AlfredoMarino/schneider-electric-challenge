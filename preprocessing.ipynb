{
 "cells": [
  {
   "cell_type": "code",
   "execution_count": 1,
   "metadata": {
    "collapsed": true
   },
   "outputs": [],
   "source": [
    "import pandas as pd\n",
    "import numpy as np"
   ]
  },
  {
   "cell_type": "markdown",
   "source": [
    "## Configuration"
   ],
   "metadata": {
    "collapsed": false,
    "pycharm": {
     "name": "#%% md\n"
    }
   }
  },
  {
   "cell_type": "code",
   "execution_count": 2,
   "outputs": [],
   "source": [
    "TARGET = \"pollutant\"\n",
    "DATA_PATH = \"datasets\"\n",
    "\n",
    "API_URLS = [\n",
    "    \"http://schneiderapihack-env.eba-3ais9akk.us-east-2.elasticbeanstalk.com/first\",\n",
    "    \"http://schneiderapihack-env.eba-3ais9akk.us-east-2.elasticbeanstalk.com/second\",\n",
    "    \"http://schneiderapihack-env.eba-3ais9akk.us-east-2.elasticbeanstalk.com/third\"\n",
    "]\n",
    "\n",
    "DATASET_DTYPES = {\n",
    "    \"CITY ID\": \"object\",\n",
    "    \"CONTINENT\": \"object\",\n",
    "    \"City\": \"object\",\n",
    "    \"DAY\": \"int8\",\n",
    "    \"DAY WITH FOGS\": \"int8\",\n",
    "    \"EPRTRAnnexIMainActivityCode\": \"object\",\n",
    "    \"EPRTRAnnexIMainActivityLabel\": \"object\",\n",
    "    \"EPRTRSectorCode\": \"int8\",\n",
    "    \"FacilityInspireID\": \"object\",\n",
    "    \"MONTH\": \"int8\",\n",
    "    \"REPORTER NAME\": \"object\",\n",
    "    \"avg_temp\": \"float64\",\n",
    "    \"avg_wind_speed\": \"float64\",\n",
    "    \"countryName\": \"object\",\n",
    "    \"eprtrSectorName\": \"object\",\n",
    "    \"facilityName\": \"object\",\n",
    "    \"max_temp\": \"float64\",\n",
    "    \"max_wind_speed\": \"float64\",\n",
    "    \"min_temp\": \"float64\",\n",
    "    \"min_wind_speed\": \"float64\",\n",
    "    \"pollutant\": \"object\",\n",
    "    \"reportingYear\": \"int8\",\n",
    "    \"targetRelease\": \"object\"\n",
    "}"
   ],
   "metadata": {
    "collapsed": false,
    "pycharm": {
     "name": "#%%\n"
    }
   }
  },
  {
   "cell_type": "markdown",
   "source": [
    "## Classes"
   ],
   "metadata": {
    "collapsed": false,
    "pycharm": {
     "name": "#%% md\n"
    }
   }
  },
  {
   "cell_type": "code",
   "source": [
    "class ApiDataConsumer:\n",
    "\n",
    "    def __init__(self, urls, dtypes = None):\n",
    "        self.urls = urls\n",
    "        self.dtypes = dtypes\n",
    "\n",
    "    def get_api_df(self, verbose: bool = True):\n",
    "        if verbose:\n",
    "            print(\"Getting data from API\")\n",
    "        api_df = None\n",
    "        for url in self.urls:\n",
    "            json_df = pd.read_json(url, dtype=self.dtypes)\n",
    "            json_df = json_df.drop(\"\", axis=1)\n",
    "\n",
    "            if verbose:\n",
    "                print(f\"url: {url} json_df.shape: {json_df.shape}\")\n",
    "\n",
    "            if api_df is not None:\n",
    "                api_df = pd.concat([api_df, json_df])\n",
    "            else:\n",
    "                api_df = json_df\n",
    "\n",
    "        return api_df"
   ],
   "metadata": {
    "collapsed": false,
    "pycharm": {
     "name": "#%%\n"
    }
   },
   "execution_count": 3,
   "outputs": []
  },
  {
   "cell_type": "markdown",
   "source": [
    "## Load data"
   ],
   "metadata": {
    "collapsed": false,
    "pycharm": {
     "name": "#%% md\n"
    }
   }
  },
  {
   "cell_type": "code",
   "execution_count": 4,
   "outputs": [],
   "source": [
    "apiDataConsumer = ApiDataConsumer(API_URLS, DATASET_DTYPES)"
   ],
   "metadata": {
    "collapsed": false,
    "pycharm": {
     "name": "#%%\n"
    }
   }
  },
  {
   "cell_type": "code",
   "execution_count": 5,
   "outputs": [
    {
     "name": "stdout",
     "output_type": "stream",
     "text": [
      "* train1 loaded... shape: (18563, 21)\n",
      "* train2 loaded... shape: (18564, 21)\n",
      "* api_df loaded... shape: (28501, 23)\n",
      "Wall time: 6.51 s\n"
     ]
    }
   ],
   "source": [
    "%%time\n",
    "train1_df = pd.read_csv(f\"{DATA_PATH}/train1.csv\", dtype=DATASET_DTYPES)\n",
    "print('* train1 loaded... shape:', train1_df.shape)\n",
    "\n",
    "train2_df = pd.read_csv(f\"{DATA_PATH}/train2.csv\", dtype=DATASET_DTYPES, sep=\";\")\n",
    "print('* train2 loaded... shape:', train2_df.shape)\n",
    "\n",
    "api_df = apiDataConsumer.get_api_df(verbose=False)\n",
    "print('* api_df loaded... shape:', api_df.shape)"
   ],
   "metadata": {
    "collapsed": false,
    "pycharm": {
     "name": "#%%\n"
    }
   }
  },
  {
   "cell_type": "code",
   "execution_count": 6,
   "outputs": [
    {
     "name": "stdout",
     "output_type": "stream",
     "text": [
      "* raw_df shape: (65628, 23)\n"
     ]
    },
    {
     "data": {
      "text/plain": "  countryName                  eprtrSectorName  \\\n0     Germany                 Mineral industry   \n1       Italy                 Mineral industry   \n2       Spain  Waste and wastewater management   \n3     Czechia                    Energy sector   \n4     Finland  Waste and wastewater management   \n\n                        EPRTRAnnexIMainActivityLabel  \\\n0  Installations for the production of cement cli...   \n1  Installations for the production of cement cli...   \n2  Landfills (excluding landfills of inert waste ...   \n3  Thermal power stations and other combustion in...   \n4                 Urban waste-water treatment plants   \n\n                                   FacilityInspireID  \\\n0  https://registry.gdi-de.org/id/de.ni.mu/062217...   \n1                         IT.CAED/240602021.FACILITY   \n2                         ES.CAED/001966000.FACILITY   \n3                    CZ.MZP.U422/CZ34736841.FACILITY   \n4  http://paikkatiedot.fi/so/1002031/pf/Productio...   \n\n                                        facilityName                  City  \\\n0               Holcim (Deutschland) GmbH Werk Höver                Sehnde   \n1               Stabilimento di Tavernola Bergamasca  TAVERNOLA BERGAMASCA   \n2                  COMPLEJO MEDIOAMBIENTAL DE ZURITA    PUERTO DEL ROSARIO   \n3                                Elektrárny Prunéřov                 Kadaň   \n4  TAMPEREEN VESI LIIKELAITOS, VIINIKANLAHDEN JÄT...               Tampere   \n\n  targetRelease              pollutant  reportingYear  MONTH  ...  \\\n0           AIR   Carbon dioxide (CO2)            -33     10  ...   \n1           AIR  Nitrogen oxides (NOX)            -30      9  ...   \n2           AIR          Methane (CH4)            -29      2  ...   \n3           AIR  Nitrogen oxides (NOX)            -36      8  ...   \n4           AIR          Methane (CH4)            -30     12  ...   \n\n   avg_wind_speed min_wind_speed   max_temp   avg_temp   min_temp  \\\n0       14.312541      21.419106   2.864895   4.924169   9.688206   \n1       19.368166      21.756389   5.462839   7.864403  12.023521   \n2       14.701985      17.103930   1.511201   4.233438   8.632193   \n3       16.122584      17.537184  10.970301  10.298348  15.179215   \n4       20.201604      21.536012  11.772039  11.344078  16.039004   \n\n   DAY WITH FOGS     REPORTER NAME                           CITY ID  \\\n0              2  Mr. Jacob Ortega  7cdb5e74adcb2ffaa21c1b61395a984f   \n1              1    Ashlee Serrano  cd1dbabbdba230b828c657a9b19a8963   \n2              2      Vincent Kemp  5011e3fa1436d15b34f1287f312fbada   \n3              0        Carol Gray  37a6d7a71c4f7c2469e4f01b70dd90c2   \n4              2        Blake Ford  471fe554e1c62d1b01cc8e4e5076c61a   \n\n   EPRTRAnnexIMainActivityCode EPRTRSectorCode  \n0                          NaN             NaN  \n1                          NaN             NaN  \n2                          NaN             NaN  \n3                          NaN             NaN  \n4                          NaN             NaN  \n\n[5 rows x 23 columns]",
      "text/html": "<div>\n<style scoped>\n    .dataframe tbody tr th:only-of-type {\n        vertical-align: middle;\n    }\n\n    .dataframe tbody tr th {\n        vertical-align: top;\n    }\n\n    .dataframe thead th {\n        text-align: right;\n    }\n</style>\n<table border=\"1\" class=\"dataframe\">\n  <thead>\n    <tr style=\"text-align: right;\">\n      <th></th>\n      <th>countryName</th>\n      <th>eprtrSectorName</th>\n      <th>EPRTRAnnexIMainActivityLabel</th>\n      <th>FacilityInspireID</th>\n      <th>facilityName</th>\n      <th>City</th>\n      <th>targetRelease</th>\n      <th>pollutant</th>\n      <th>reportingYear</th>\n      <th>MONTH</th>\n      <th>...</th>\n      <th>avg_wind_speed</th>\n      <th>min_wind_speed</th>\n      <th>max_temp</th>\n      <th>avg_temp</th>\n      <th>min_temp</th>\n      <th>DAY WITH FOGS</th>\n      <th>REPORTER NAME</th>\n      <th>CITY ID</th>\n      <th>EPRTRAnnexIMainActivityCode</th>\n      <th>EPRTRSectorCode</th>\n    </tr>\n  </thead>\n  <tbody>\n    <tr>\n      <th>0</th>\n      <td>Germany</td>\n      <td>Mineral industry</td>\n      <td>Installations for the production of cement cli...</td>\n      <td>https://registry.gdi-de.org/id/de.ni.mu/062217...</td>\n      <td>Holcim (Deutschland) GmbH Werk Höver</td>\n      <td>Sehnde</td>\n      <td>AIR</td>\n      <td>Carbon dioxide (CO2)</td>\n      <td>-33</td>\n      <td>10</td>\n      <td>...</td>\n      <td>14.312541</td>\n      <td>21.419106</td>\n      <td>2.864895</td>\n      <td>4.924169</td>\n      <td>9.688206</td>\n      <td>2</td>\n      <td>Mr. Jacob Ortega</td>\n      <td>7cdb5e74adcb2ffaa21c1b61395a984f</td>\n      <td>NaN</td>\n      <td>NaN</td>\n    </tr>\n    <tr>\n      <th>1</th>\n      <td>Italy</td>\n      <td>Mineral industry</td>\n      <td>Installations for the production of cement cli...</td>\n      <td>IT.CAED/240602021.FACILITY</td>\n      <td>Stabilimento di Tavernola Bergamasca</td>\n      <td>TAVERNOLA BERGAMASCA</td>\n      <td>AIR</td>\n      <td>Nitrogen oxides (NOX)</td>\n      <td>-30</td>\n      <td>9</td>\n      <td>...</td>\n      <td>19.368166</td>\n      <td>21.756389</td>\n      <td>5.462839</td>\n      <td>7.864403</td>\n      <td>12.023521</td>\n      <td>1</td>\n      <td>Ashlee Serrano</td>\n      <td>cd1dbabbdba230b828c657a9b19a8963</td>\n      <td>NaN</td>\n      <td>NaN</td>\n    </tr>\n    <tr>\n      <th>2</th>\n      <td>Spain</td>\n      <td>Waste and wastewater management</td>\n      <td>Landfills (excluding landfills of inert waste ...</td>\n      <td>ES.CAED/001966000.FACILITY</td>\n      <td>COMPLEJO MEDIOAMBIENTAL DE ZURITA</td>\n      <td>PUERTO DEL ROSARIO</td>\n      <td>AIR</td>\n      <td>Methane (CH4)</td>\n      <td>-29</td>\n      <td>2</td>\n      <td>...</td>\n      <td>14.701985</td>\n      <td>17.103930</td>\n      <td>1.511201</td>\n      <td>4.233438</td>\n      <td>8.632193</td>\n      <td>2</td>\n      <td>Vincent Kemp</td>\n      <td>5011e3fa1436d15b34f1287f312fbada</td>\n      <td>NaN</td>\n      <td>NaN</td>\n    </tr>\n    <tr>\n      <th>3</th>\n      <td>Czechia</td>\n      <td>Energy sector</td>\n      <td>Thermal power stations and other combustion in...</td>\n      <td>CZ.MZP.U422/CZ34736841.FACILITY</td>\n      <td>Elektrárny Prunéřov</td>\n      <td>Kadaň</td>\n      <td>AIR</td>\n      <td>Nitrogen oxides (NOX)</td>\n      <td>-36</td>\n      <td>8</td>\n      <td>...</td>\n      <td>16.122584</td>\n      <td>17.537184</td>\n      <td>10.970301</td>\n      <td>10.298348</td>\n      <td>15.179215</td>\n      <td>0</td>\n      <td>Carol Gray</td>\n      <td>37a6d7a71c4f7c2469e4f01b70dd90c2</td>\n      <td>NaN</td>\n      <td>NaN</td>\n    </tr>\n    <tr>\n      <th>4</th>\n      <td>Finland</td>\n      <td>Waste and wastewater management</td>\n      <td>Urban waste-water treatment plants</td>\n      <td>http://paikkatiedot.fi/so/1002031/pf/Productio...</td>\n      <td>TAMPEREEN VESI LIIKELAITOS, VIINIKANLAHDEN JÄT...</td>\n      <td>Tampere</td>\n      <td>AIR</td>\n      <td>Methane (CH4)</td>\n      <td>-30</td>\n      <td>12</td>\n      <td>...</td>\n      <td>20.201604</td>\n      <td>21.536012</td>\n      <td>11.772039</td>\n      <td>11.344078</td>\n      <td>16.039004</td>\n      <td>2</td>\n      <td>Blake Ford</td>\n      <td>471fe554e1c62d1b01cc8e4e5076c61a</td>\n      <td>NaN</td>\n      <td>NaN</td>\n    </tr>\n  </tbody>\n</table>\n<p>5 rows × 23 columns</p>\n</div>"
     },
     "execution_count": 6,
     "metadata": {},
     "output_type": "execute_result"
    }
   ],
   "source": [
    "raw_df = pd.concat([train1_df, train2_df, api_df], axis=0)\n",
    "print('* raw_df shape:', raw_df.shape)\n",
    "raw_df.head()"
   ],
   "metadata": {
    "collapsed": false,
    "pycharm": {
     "name": "#%%\n"
    }
   }
  },
  {
   "cell_type": "markdown",
   "source": [
    "## Preprocessing"
   ],
   "metadata": {
    "collapsed": false,
    "pycharm": {
     "name": "#%% md\n"
    }
   }
  },
  {
   "cell_type": "code",
   "execution_count": 7,
   "outputs": [],
   "source": [
    "prep_df = raw_df.copy(deep=True)"
   ],
   "metadata": {
    "collapsed": false,
    "pycharm": {
     "name": "#%%\n"
    }
   }
  },
  {
   "cell_type": "code",
   "execution_count": 8,
   "outputs": [
    {
     "data": {
      "text/plain": "         countryName                  eprtrSectorName  \\\n0            Germany                 Mineral industry   \n1              Italy                 Mineral industry   \n2              Spain  Waste and wastewater management   \n3            Czechia                    Energy sector   \n4            Finland  Waste and wastewater management   \n...              ...                              ...   \n9496          Cyprus                    Energy sector   \n9497         Finland                    Energy sector   \n9498        Slovenia  Waste and wastewater management   \n9499           Italy                 Mineral industry   \n9500  United Kingdom                    Energy sector   \n\n                           EPRTRAnnexIMainActivityLabel  \\\n0     Installations for the production of cement cli...   \n1     Installations for the production of cement cli...   \n2     Landfills (excluding landfills of inert waste ...   \n3     Thermal power stations and other combustion in...   \n4                    Urban waste-water treatment plants   \n...                                                 ...   \n9496  Thermal power stations and other combustion in...   \n9497  Thermal power stations and other combustion in...   \n9498  Landfills (excluding landfills of inert waste ...   \n9499          Underground mining and related operations   \n9500  Thermal power stations and other combustion in...   \n\n                                      FacilityInspireID  \\\n0     https://registry.gdi-de.org/id/de.ni.mu/062217...   \n1                            IT.CAED/240602021.FACILITY   \n2                            ES.CAED/001966000.FACILITY   \n3                       CZ.MZP.U422/CZ34736841.FACILITY   \n4     http://paikkatiedot.fi/so/1002031/pf/Productio...   \n...                                                 ...   \n9496                        CY.CAED/0030030000.FACILITY   \n9497  http://paikkatiedot.fi/so/1002031/pf/Productio...   \n9498                         SI.ARSO/000000037.FACILITY   \n9499                         IT.CAED/850592002.FACILITY   \n9500                              GB.EEA/13394.FACILITY   \n\n                                           facilityName                  City  \\\n0                  Holcim (Deutschland) GmbH Werk Höver                Sehnde   \n1                  Stabilimento di Tavernola Bergamasca  TAVERNOLA BERGAMASCA   \n2                     COMPLEJO MEDIOAMBIENTAL DE ZURITA    PUERTO DEL ROSARIO   \n3                                   Elektrárny Prunéřov                 Kadaň   \n4     TAMPEREEN VESI LIIKELAITOS, VIINIKANLAHDEN JÄT...               Tampere   \n...                                                 ...                   ...   \n9496  Electricity Authority of Cyprus, Vassilikos Po...               LARNAKA   \n9497  Turun Seudun Energiantuotanto Oy, Naantalin vo...              Naantali   \n9498  Javne službe Ptuj, Odlagališče nenevarnih odpa...                  Ptuj   \n9499                             Centro Olio Val d'Agri              VIGGIANO   \n9500  SSE Generation Ltd, Weston Point Salt Works CH...               Runcorn   \n\n     targetRelease              pollutant  reportingYear  MONTH  ...  \\\n0              AIR   Carbon dioxide (CO2)            -33     10  ...   \n1              AIR  Nitrogen oxides (NOX)            -30      9  ...   \n2              AIR          Methane (CH4)            -29      2  ...   \n3              AIR  Nitrogen oxides (NOX)            -36      8  ...   \n4              AIR          Methane (CH4)            -30     12  ...   \n...            ...                    ...            ...    ...  ...   \n9496           AIR   Carbon dioxide (CO2)            -40      1  ...   \n9497           AIR  Nitrogen oxides (NOX)            -40     12  ...   \n9498           AIR          Methane (CH4)            -38      8  ...   \n9499           AIR  Nitrogen oxides (NOX)            -34      1  ...   \n9500           AIR   Carbon dioxide (CO2)            -40      7  ...   \n\n      avg_wind_speed min_wind_speed   max_temp   avg_temp   min_temp  \\\n0          14.312541      21.419106   2.864895   4.924169   9.688206   \n1          19.368166      21.756389   5.462839   7.864403  12.023521   \n2          14.701985      17.103930   1.511201   4.233438   8.632193   \n3          16.122584      17.537184  10.970301  10.298348  15.179215   \n4          20.201604      21.536012  11.772039  11.344078  16.039004   \n...              ...            ...        ...        ...        ...   \n9496       18.556476      22.852530  13.345801  12.410783  17.148327   \n9497       14.461703      20.553781   3.820281   3.763833   5.657107   \n9498       16.688049      20.411498  17.285365  18.349798  21.538441   \n9499       16.144091      22.647192   6.387199   6.176238   9.269076   \n9500       21.296949      29.248276   8.220678  11.194308  14.171780   \n\n      DAY WITH FOGS        REPORTER NAME                           CITY ID  \\\n0                 2     Mr. Jacob Ortega  7cdb5e74adcb2ffaa21c1b61395a984f   \n1                 1       Ashlee Serrano  cd1dbabbdba230b828c657a9b19a8963   \n2                 2         Vincent Kemp  5011e3fa1436d15b34f1287f312fbada   \n3                 0           Carol Gray  37a6d7a71c4f7c2469e4f01b70dd90c2   \n4                 2           Blake Ford  471fe554e1c62d1b01cc8e4e5076c61a   \n...             ...                  ...                               ...   \n9496              0       Tammy Faulkner  2d4776365b33d5f1be53ea4606e2c79c   \n9497              0  Dr. Courtney Bryant  020b11bf06b96aae1dd910a56674a8aa   \n9498              2        William Greer  84afdc8367dfd9124e8b8f994e986fe9   \n9499              0      Leonard Roberts  09ad69bcf41256f40be3314a33e0438c   \n9500             13    Mr. Benjamin Park  b5f44c55c14c881ea21499a32fc972d0   \n\n      EPRTRAnnexIMainActivityCode EPRTRSectorCode  \n0                             NaN             NaN  \n1                             NaN             NaN  \n2                             NaN             NaN  \n3                             NaN             NaN  \n4                             NaN             NaN  \n...                           ...             ...  \n9496                         1(c)             1.0  \n9497                         1(c)             1.0  \n9498                         5(d)             5.0  \n9499                         3(a)             3.0  \n9500                         1(c)             1.0  \n\n[65628 rows x 23 columns]",
      "text/html": "<div>\n<style scoped>\n    .dataframe tbody tr th:only-of-type {\n        vertical-align: middle;\n    }\n\n    .dataframe tbody tr th {\n        vertical-align: top;\n    }\n\n    .dataframe thead th {\n        text-align: right;\n    }\n</style>\n<table border=\"1\" class=\"dataframe\">\n  <thead>\n    <tr style=\"text-align: right;\">\n      <th></th>\n      <th>countryName</th>\n      <th>eprtrSectorName</th>\n      <th>EPRTRAnnexIMainActivityLabel</th>\n      <th>FacilityInspireID</th>\n      <th>facilityName</th>\n      <th>City</th>\n      <th>targetRelease</th>\n      <th>pollutant</th>\n      <th>reportingYear</th>\n      <th>MONTH</th>\n      <th>...</th>\n      <th>avg_wind_speed</th>\n      <th>min_wind_speed</th>\n      <th>max_temp</th>\n      <th>avg_temp</th>\n      <th>min_temp</th>\n      <th>DAY WITH FOGS</th>\n      <th>REPORTER NAME</th>\n      <th>CITY ID</th>\n      <th>EPRTRAnnexIMainActivityCode</th>\n      <th>EPRTRSectorCode</th>\n    </tr>\n  </thead>\n  <tbody>\n    <tr>\n      <th>0</th>\n      <td>Germany</td>\n      <td>Mineral industry</td>\n      <td>Installations for the production of cement cli...</td>\n      <td>https://registry.gdi-de.org/id/de.ni.mu/062217...</td>\n      <td>Holcim (Deutschland) GmbH Werk Höver</td>\n      <td>Sehnde</td>\n      <td>AIR</td>\n      <td>Carbon dioxide (CO2)</td>\n      <td>-33</td>\n      <td>10</td>\n      <td>...</td>\n      <td>14.312541</td>\n      <td>21.419106</td>\n      <td>2.864895</td>\n      <td>4.924169</td>\n      <td>9.688206</td>\n      <td>2</td>\n      <td>Mr. Jacob Ortega</td>\n      <td>7cdb5e74adcb2ffaa21c1b61395a984f</td>\n      <td>NaN</td>\n      <td>NaN</td>\n    </tr>\n    <tr>\n      <th>1</th>\n      <td>Italy</td>\n      <td>Mineral industry</td>\n      <td>Installations for the production of cement cli...</td>\n      <td>IT.CAED/240602021.FACILITY</td>\n      <td>Stabilimento di Tavernola Bergamasca</td>\n      <td>TAVERNOLA BERGAMASCA</td>\n      <td>AIR</td>\n      <td>Nitrogen oxides (NOX)</td>\n      <td>-30</td>\n      <td>9</td>\n      <td>...</td>\n      <td>19.368166</td>\n      <td>21.756389</td>\n      <td>5.462839</td>\n      <td>7.864403</td>\n      <td>12.023521</td>\n      <td>1</td>\n      <td>Ashlee Serrano</td>\n      <td>cd1dbabbdba230b828c657a9b19a8963</td>\n      <td>NaN</td>\n      <td>NaN</td>\n    </tr>\n    <tr>\n      <th>2</th>\n      <td>Spain</td>\n      <td>Waste and wastewater management</td>\n      <td>Landfills (excluding landfills of inert waste ...</td>\n      <td>ES.CAED/001966000.FACILITY</td>\n      <td>COMPLEJO MEDIOAMBIENTAL DE ZURITA</td>\n      <td>PUERTO DEL ROSARIO</td>\n      <td>AIR</td>\n      <td>Methane (CH4)</td>\n      <td>-29</td>\n      <td>2</td>\n      <td>...</td>\n      <td>14.701985</td>\n      <td>17.103930</td>\n      <td>1.511201</td>\n      <td>4.233438</td>\n      <td>8.632193</td>\n      <td>2</td>\n      <td>Vincent Kemp</td>\n      <td>5011e3fa1436d15b34f1287f312fbada</td>\n      <td>NaN</td>\n      <td>NaN</td>\n    </tr>\n    <tr>\n      <th>3</th>\n      <td>Czechia</td>\n      <td>Energy sector</td>\n      <td>Thermal power stations and other combustion in...</td>\n      <td>CZ.MZP.U422/CZ34736841.FACILITY</td>\n      <td>Elektrárny Prunéřov</td>\n      <td>Kadaň</td>\n      <td>AIR</td>\n      <td>Nitrogen oxides (NOX)</td>\n      <td>-36</td>\n      <td>8</td>\n      <td>...</td>\n      <td>16.122584</td>\n      <td>17.537184</td>\n      <td>10.970301</td>\n      <td>10.298348</td>\n      <td>15.179215</td>\n      <td>0</td>\n      <td>Carol Gray</td>\n      <td>37a6d7a71c4f7c2469e4f01b70dd90c2</td>\n      <td>NaN</td>\n      <td>NaN</td>\n    </tr>\n    <tr>\n      <th>4</th>\n      <td>Finland</td>\n      <td>Waste and wastewater management</td>\n      <td>Urban waste-water treatment plants</td>\n      <td>http://paikkatiedot.fi/so/1002031/pf/Productio...</td>\n      <td>TAMPEREEN VESI LIIKELAITOS, VIINIKANLAHDEN JÄT...</td>\n      <td>Tampere</td>\n      <td>AIR</td>\n      <td>Methane (CH4)</td>\n      <td>-30</td>\n      <td>12</td>\n      <td>...</td>\n      <td>20.201604</td>\n      <td>21.536012</td>\n      <td>11.772039</td>\n      <td>11.344078</td>\n      <td>16.039004</td>\n      <td>2</td>\n      <td>Blake Ford</td>\n      <td>471fe554e1c62d1b01cc8e4e5076c61a</td>\n      <td>NaN</td>\n      <td>NaN</td>\n    </tr>\n    <tr>\n      <th>...</th>\n      <td>...</td>\n      <td>...</td>\n      <td>...</td>\n      <td>...</td>\n      <td>...</td>\n      <td>...</td>\n      <td>...</td>\n      <td>...</td>\n      <td>...</td>\n      <td>...</td>\n      <td>...</td>\n      <td>...</td>\n      <td>...</td>\n      <td>...</td>\n      <td>...</td>\n      <td>...</td>\n      <td>...</td>\n      <td>...</td>\n      <td>...</td>\n      <td>...</td>\n      <td>...</td>\n    </tr>\n    <tr>\n      <th>9496</th>\n      <td>Cyprus</td>\n      <td>Energy sector</td>\n      <td>Thermal power stations and other combustion in...</td>\n      <td>CY.CAED/0030030000.FACILITY</td>\n      <td>Electricity Authority of Cyprus, Vassilikos Po...</td>\n      <td>LARNAKA</td>\n      <td>AIR</td>\n      <td>Carbon dioxide (CO2)</td>\n      <td>-40</td>\n      <td>1</td>\n      <td>...</td>\n      <td>18.556476</td>\n      <td>22.852530</td>\n      <td>13.345801</td>\n      <td>12.410783</td>\n      <td>17.148327</td>\n      <td>0</td>\n      <td>Tammy Faulkner</td>\n      <td>2d4776365b33d5f1be53ea4606e2c79c</td>\n      <td>1(c)</td>\n      <td>1.0</td>\n    </tr>\n    <tr>\n      <th>9497</th>\n      <td>Finland</td>\n      <td>Energy sector</td>\n      <td>Thermal power stations and other combustion in...</td>\n      <td>http://paikkatiedot.fi/so/1002031/pf/Productio...</td>\n      <td>Turun Seudun Energiantuotanto Oy, Naantalin vo...</td>\n      <td>Naantali</td>\n      <td>AIR</td>\n      <td>Nitrogen oxides (NOX)</td>\n      <td>-40</td>\n      <td>12</td>\n      <td>...</td>\n      <td>14.461703</td>\n      <td>20.553781</td>\n      <td>3.820281</td>\n      <td>3.763833</td>\n      <td>5.657107</td>\n      <td>0</td>\n      <td>Dr. Courtney Bryant</td>\n      <td>020b11bf06b96aae1dd910a56674a8aa</td>\n      <td>1(c)</td>\n      <td>1.0</td>\n    </tr>\n    <tr>\n      <th>9498</th>\n      <td>Slovenia</td>\n      <td>Waste and wastewater management</td>\n      <td>Landfills (excluding landfills of inert waste ...</td>\n      <td>SI.ARSO/000000037.FACILITY</td>\n      <td>Javne službe Ptuj, Odlagališče nenevarnih odpa...</td>\n      <td>Ptuj</td>\n      <td>AIR</td>\n      <td>Methane (CH4)</td>\n      <td>-38</td>\n      <td>8</td>\n      <td>...</td>\n      <td>16.688049</td>\n      <td>20.411498</td>\n      <td>17.285365</td>\n      <td>18.349798</td>\n      <td>21.538441</td>\n      <td>2</td>\n      <td>William Greer</td>\n      <td>84afdc8367dfd9124e8b8f994e986fe9</td>\n      <td>5(d)</td>\n      <td>5.0</td>\n    </tr>\n    <tr>\n      <th>9499</th>\n      <td>Italy</td>\n      <td>Mineral industry</td>\n      <td>Underground mining and related operations</td>\n      <td>IT.CAED/850592002.FACILITY</td>\n      <td>Centro Olio Val d'Agri</td>\n      <td>VIGGIANO</td>\n      <td>AIR</td>\n      <td>Nitrogen oxides (NOX)</td>\n      <td>-34</td>\n      <td>1</td>\n      <td>...</td>\n      <td>16.144091</td>\n      <td>22.647192</td>\n      <td>6.387199</td>\n      <td>6.176238</td>\n      <td>9.269076</td>\n      <td>0</td>\n      <td>Leonard Roberts</td>\n      <td>09ad69bcf41256f40be3314a33e0438c</td>\n      <td>3(a)</td>\n      <td>3.0</td>\n    </tr>\n    <tr>\n      <th>9500</th>\n      <td>United Kingdom</td>\n      <td>Energy sector</td>\n      <td>Thermal power stations and other combustion in...</td>\n      <td>GB.EEA/13394.FACILITY</td>\n      <td>SSE Generation Ltd, Weston Point Salt Works CH...</td>\n      <td>Runcorn</td>\n      <td>AIR</td>\n      <td>Carbon dioxide (CO2)</td>\n      <td>-40</td>\n      <td>7</td>\n      <td>...</td>\n      <td>21.296949</td>\n      <td>29.248276</td>\n      <td>8.220678</td>\n      <td>11.194308</td>\n      <td>14.171780</td>\n      <td>13</td>\n      <td>Mr. Benjamin Park</td>\n      <td>b5f44c55c14c881ea21499a32fc972d0</td>\n      <td>1(c)</td>\n      <td>1.0</td>\n    </tr>\n  </tbody>\n</table>\n<p>65628 rows × 23 columns</p>\n</div>"
     },
     "execution_count": 8,
     "metadata": {},
     "output_type": "execute_result"
    }
   ],
   "source": [
    "prep_df"
   ],
   "metadata": {
    "collapsed": false,
    "pycharm": {
     "name": "#%%\n"
    }
   }
  },
  {
   "cell_type": "code",
   "execution_count": 9,
   "outputs": [
    {
     "name": "stdout",
     "output_type": "stream",
     "text": [
      "<class 'pandas.core.frame.DataFrame'>\n",
      "Int64Index: 65628 entries, 0 to 9500\n",
      "Data columns (total 23 columns):\n",
      " #   Column                        Non-Null Count  Dtype  \n",
      "---  ------                        --------------  -----  \n",
      " 0   countryName                   65628 non-null  object \n",
      " 1   eprtrSectorName               65628 non-null  object \n",
      " 2   EPRTRAnnexIMainActivityLabel  65628 non-null  object \n",
      " 3   FacilityInspireID             65628 non-null  object \n",
      " 4   facilityName                  65628 non-null  object \n",
      " 5   City                          65628 non-null  object \n",
      " 6   targetRelease                 65628 non-null  object \n",
      " 7   pollutant                     65628 non-null  object \n",
      " 8   reportingYear                 65628 non-null  int8   \n",
      " 9   MONTH                         65628 non-null  int8   \n",
      " 10  DAY                           65628 non-null  int8   \n",
      " 11  CONTINENT                     65628 non-null  object \n",
      " 12  max_wind_speed                65628 non-null  float64\n",
      " 13  avg_wind_speed                65628 non-null  float64\n",
      " 14  min_wind_speed                65628 non-null  float64\n",
      " 15  max_temp                      65628 non-null  float64\n",
      " 16  avg_temp                      65628 non-null  float64\n",
      " 17  min_temp                      65628 non-null  float64\n",
      " 18  DAY WITH FOGS                 65628 non-null  int8   \n",
      " 19  REPORTER NAME                 65628 non-null  object \n",
      " 20  CITY ID                       65628 non-null  object \n",
      " 21  EPRTRAnnexIMainActivityCode   28501 non-null  object \n",
      " 22  EPRTRSectorCode               28501 non-null  float64\n",
      "dtypes: float64(7), int8(4), object(12)\n",
      "memory usage: 10.3+ MB\n"
     ]
    }
   ],
   "source": [
    "prep_df.info()"
   ],
   "metadata": {
    "collapsed": false,
    "pycharm": {
     "name": "#%%\n"
    }
   }
  },
  {
   "cell_type": "code",
   "execution_count": 10,
   "outputs": [
    {
     "data": {
      "text/plain": "                   count       mean       std        min        25%  \\\nreportingYear    65628.0 -35.064957  3.853655 -41.000000 -38.000000   \nMONTH            65628.0   6.489974  3.450833   1.000000   3.000000   \nDAY              65628.0  14.517203  8.097332   1.000000   8.000000   \nmax_wind_speed   65628.0  15.515958  3.067272   8.011958  13.324166   \navg_wind_speed   65628.0  18.015285  2.310739  14.000100  16.012197   \nmin_wind_speed   65628.0  22.521038  3.059973  15.032589  20.346158   \nmax_temp         65628.0   9.455406  5.216525  -3.141464   5.879821   \navg_temp         65628.0  10.448142  5.084529  -0.199176   7.186013   \nmin_temp         65628.0  13.442827  5.216068   0.894827   9.894281   \nDAY WITH FOGS    65628.0   2.232568  3.778429   0.000000   0.000000   \nEPRTRSectorCode  28501.0   3.168170  2.041559   1.000000   1.000000   \n\n                       50%        75%        max  \nreportingYear   -35.000000 -32.000000 -28.000000  \nMONTH             7.000000   9.000000  12.000000  \nDAY              14.000000  22.000000  28.000000  \nmax_wind_speed   15.506820  17.718201  22.991382  \navg_wind_speed   18.020789  20.011702  21.999973  \nmin_wind_speed   22.540387  24.715251  29.933603  \nmax_temp          9.698967  13.282417  20.938266  \navg_temp         10.701504  14.193578  19.999403  \nmin_temp         13.692473  17.268000  24.902108  \nDAY WITH FOGS     1.000000   2.000000  19.000000  \nEPRTRSectorCode   3.000000   5.000000   9.000000  ",
      "text/html": "<div>\n<style scoped>\n    .dataframe tbody tr th:only-of-type {\n        vertical-align: middle;\n    }\n\n    .dataframe tbody tr th {\n        vertical-align: top;\n    }\n\n    .dataframe thead th {\n        text-align: right;\n    }\n</style>\n<table border=\"1\" class=\"dataframe\">\n  <thead>\n    <tr style=\"text-align: right;\">\n      <th></th>\n      <th>count</th>\n      <th>mean</th>\n      <th>std</th>\n      <th>min</th>\n      <th>25%</th>\n      <th>50%</th>\n      <th>75%</th>\n      <th>max</th>\n    </tr>\n  </thead>\n  <tbody>\n    <tr>\n      <th>reportingYear</th>\n      <td>65628.0</td>\n      <td>-35.064957</td>\n      <td>3.853655</td>\n      <td>-41.000000</td>\n      <td>-38.000000</td>\n      <td>-35.000000</td>\n      <td>-32.000000</td>\n      <td>-28.000000</td>\n    </tr>\n    <tr>\n      <th>MONTH</th>\n      <td>65628.0</td>\n      <td>6.489974</td>\n      <td>3.450833</td>\n      <td>1.000000</td>\n      <td>3.000000</td>\n      <td>7.000000</td>\n      <td>9.000000</td>\n      <td>12.000000</td>\n    </tr>\n    <tr>\n      <th>DAY</th>\n      <td>65628.0</td>\n      <td>14.517203</td>\n      <td>8.097332</td>\n      <td>1.000000</td>\n      <td>8.000000</td>\n      <td>14.000000</td>\n      <td>22.000000</td>\n      <td>28.000000</td>\n    </tr>\n    <tr>\n      <th>max_wind_speed</th>\n      <td>65628.0</td>\n      <td>15.515958</td>\n      <td>3.067272</td>\n      <td>8.011958</td>\n      <td>13.324166</td>\n      <td>15.506820</td>\n      <td>17.718201</td>\n      <td>22.991382</td>\n    </tr>\n    <tr>\n      <th>avg_wind_speed</th>\n      <td>65628.0</td>\n      <td>18.015285</td>\n      <td>2.310739</td>\n      <td>14.000100</td>\n      <td>16.012197</td>\n      <td>18.020789</td>\n      <td>20.011702</td>\n      <td>21.999973</td>\n    </tr>\n    <tr>\n      <th>min_wind_speed</th>\n      <td>65628.0</td>\n      <td>22.521038</td>\n      <td>3.059973</td>\n      <td>15.032589</td>\n      <td>20.346158</td>\n      <td>22.540387</td>\n      <td>24.715251</td>\n      <td>29.933603</td>\n    </tr>\n    <tr>\n      <th>max_temp</th>\n      <td>65628.0</td>\n      <td>9.455406</td>\n      <td>5.216525</td>\n      <td>-3.141464</td>\n      <td>5.879821</td>\n      <td>9.698967</td>\n      <td>13.282417</td>\n      <td>20.938266</td>\n    </tr>\n    <tr>\n      <th>avg_temp</th>\n      <td>65628.0</td>\n      <td>10.448142</td>\n      <td>5.084529</td>\n      <td>-0.199176</td>\n      <td>7.186013</td>\n      <td>10.701504</td>\n      <td>14.193578</td>\n      <td>19.999403</td>\n    </tr>\n    <tr>\n      <th>min_temp</th>\n      <td>65628.0</td>\n      <td>13.442827</td>\n      <td>5.216068</td>\n      <td>0.894827</td>\n      <td>9.894281</td>\n      <td>13.692473</td>\n      <td>17.268000</td>\n      <td>24.902108</td>\n    </tr>\n    <tr>\n      <th>DAY WITH FOGS</th>\n      <td>65628.0</td>\n      <td>2.232568</td>\n      <td>3.778429</td>\n      <td>0.000000</td>\n      <td>0.000000</td>\n      <td>1.000000</td>\n      <td>2.000000</td>\n      <td>19.000000</td>\n    </tr>\n    <tr>\n      <th>EPRTRSectorCode</th>\n      <td>28501.0</td>\n      <td>3.168170</td>\n      <td>2.041559</td>\n      <td>1.000000</td>\n      <td>1.000000</td>\n      <td>3.000000</td>\n      <td>5.000000</td>\n      <td>9.000000</td>\n    </tr>\n  </tbody>\n</table>\n</div>"
     },
     "execution_count": 10,
     "metadata": {},
     "output_type": "execute_result"
    }
   ],
   "source": [
    "prep_df.describe().T"
   ],
   "metadata": {
    "collapsed": false,
    "pycharm": {
     "name": "#%%\n"
    }
   }
  },
  {
   "cell_type": "code",
   "execution_count": 11,
   "outputs": [
    {
     "data": {
      "text/plain": "                              count unique  \\\ncountryName                   65628     32   \neprtrSectorName               65628      9   \nEPRTRAnnexIMainActivityLabel  65628     71   \nFacilityInspireID             65628   7185   \nfacilityName                  65628   7930   \nCity                          65628   5136   \ntargetRelease                 65628      1   \npollutant                     65628      3   \nCONTINENT                     65628      1   \nREPORTER NAME                 65628  45016   \nCITY ID                       65628   5136   \nEPRTRAnnexIMainActivityCode   28501     70   \n\n                                                                            top  \\\ncountryName                                                      United Kingdom   \neprtrSectorName                                                   Energy sector   \nEPRTRAnnexIMainActivityLabel  Thermal power stations and other combustion in...   \nFacilityInspireID             https://data.ied_registry.omgeving.vlaanderen....   \nfacilityName                                             Enel Produzione S.p.A.   \nCity                                                                         --   \ntargetRelease                                                               AIR   \npollutant                                                 Nitrogen oxides (NOX)   \nCONTINENT                                                                EUROPE   \nREPORTER NAME                                                     Michael Brown   \nCITY ID                                        cfab1ba8c67c7c838db98d666f02a132   \nEPRTRAnnexIMainActivityCode                                                1(c)   \n\n                               freq  \ncountryName                    9016  \neprtrSectorName               24562  \nEPRTRAnnexIMainActivityLabel  21527  \nFacilityInspireID                42  \nfacilityName                    234  \nCity                           1975  \ntargetRelease                 65628  \npollutant                     25982  \nCONTINENT                     65628  \nREPORTER NAME                    25  \nCITY ID                        1975  \nEPRTRAnnexIMainActivityCode    9378  ",
      "text/html": "<div>\n<style scoped>\n    .dataframe tbody tr th:only-of-type {\n        vertical-align: middle;\n    }\n\n    .dataframe tbody tr th {\n        vertical-align: top;\n    }\n\n    .dataframe thead th {\n        text-align: right;\n    }\n</style>\n<table border=\"1\" class=\"dataframe\">\n  <thead>\n    <tr style=\"text-align: right;\">\n      <th></th>\n      <th>count</th>\n      <th>unique</th>\n      <th>top</th>\n      <th>freq</th>\n    </tr>\n  </thead>\n  <tbody>\n    <tr>\n      <th>countryName</th>\n      <td>65628</td>\n      <td>32</td>\n      <td>United Kingdom</td>\n      <td>9016</td>\n    </tr>\n    <tr>\n      <th>eprtrSectorName</th>\n      <td>65628</td>\n      <td>9</td>\n      <td>Energy sector</td>\n      <td>24562</td>\n    </tr>\n    <tr>\n      <th>EPRTRAnnexIMainActivityLabel</th>\n      <td>65628</td>\n      <td>71</td>\n      <td>Thermal power stations and other combustion in...</td>\n      <td>21527</td>\n    </tr>\n    <tr>\n      <th>FacilityInspireID</th>\n      <td>65628</td>\n      <td>7185</td>\n      <td>https://data.ied_registry.omgeving.vlaanderen....</td>\n      <td>42</td>\n    </tr>\n    <tr>\n      <th>facilityName</th>\n      <td>65628</td>\n      <td>7930</td>\n      <td>Enel Produzione S.p.A.</td>\n      <td>234</td>\n    </tr>\n    <tr>\n      <th>City</th>\n      <td>65628</td>\n      <td>5136</td>\n      <td>--</td>\n      <td>1975</td>\n    </tr>\n    <tr>\n      <th>targetRelease</th>\n      <td>65628</td>\n      <td>1</td>\n      <td>AIR</td>\n      <td>65628</td>\n    </tr>\n    <tr>\n      <th>pollutant</th>\n      <td>65628</td>\n      <td>3</td>\n      <td>Nitrogen oxides (NOX)</td>\n      <td>25982</td>\n    </tr>\n    <tr>\n      <th>CONTINENT</th>\n      <td>65628</td>\n      <td>1</td>\n      <td>EUROPE</td>\n      <td>65628</td>\n    </tr>\n    <tr>\n      <th>REPORTER NAME</th>\n      <td>65628</td>\n      <td>45016</td>\n      <td>Michael Brown</td>\n      <td>25</td>\n    </tr>\n    <tr>\n      <th>CITY ID</th>\n      <td>65628</td>\n      <td>5136</td>\n      <td>cfab1ba8c67c7c838db98d666f02a132</td>\n      <td>1975</td>\n    </tr>\n    <tr>\n      <th>EPRTRAnnexIMainActivityCode</th>\n      <td>28501</td>\n      <td>70</td>\n      <td>1(c)</td>\n      <td>9378</td>\n    </tr>\n  </tbody>\n</table>\n</div>"
     },
     "execution_count": 11,
     "metadata": {},
     "output_type": "execute_result"
    }
   ],
   "source": [
    "prep_df.describe(exclude=np.number).T"
   ],
   "metadata": {
    "collapsed": false,
    "pycharm": {
     "name": "#%%\n"
    }
   }
  },
  {
   "cell_type": "code",
   "execution_count": 14,
   "outputs": [],
   "source": [
    "to_remove_hot_encode = [\n",
    "    \"EPRTRSectorCode\",\n",
    "    \"EPRTRAnnexIMainActivityCode\",\n",
    "\n",
    "    \"targetRelease\",\n",
    "\n",
    "    \"FacilityInspireID\",\n",
    "    \"facilityName\",\n",
    "    \"City\",\n",
    "]\n",
    "\n",
    "to_one_hot_encode = [\n",
    "    \"countryName\",\n",
    "    \"eprtrSectorName\",\n",
    "    \"EPRTRAnnexIMainActivityLabel\"\n",
    "]"
   ],
   "metadata": {
    "collapsed": false,
    "pycharm": {
     "name": "#%%\n"
    }
   }
  },
  {
   "cell_type": "code",
   "execution_count": null,
   "outputs": [],
   "source": [],
   "metadata": {
    "collapsed": false,
    "pycharm": {
     "name": "#%%\n"
    }
   }
  }
 ],
 "metadata": {
  "kernelspec": {
   "display_name": "Python 3",
   "language": "python",
   "name": "python3"
  },
  "language_info": {
   "codemirror_mode": {
    "name": "ipython",
    "version": 2
   },
   "file_extension": ".py",
   "mimetype": "text/x-python",
   "name": "python",
   "nbconvert_exporter": "python",
   "pygments_lexer": "ipython2",
   "version": "2.7.6"
  }
 },
 "nbformat": 4,
 "nbformat_minor": 0
}