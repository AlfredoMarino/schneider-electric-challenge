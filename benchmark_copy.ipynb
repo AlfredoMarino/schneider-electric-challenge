{
  "cells": [
    {
      "cell_type": "code",
      "execution_count": 1,
      "metadata": {
        "id": "s4HoTmaYiZ8z"
      },
      "outputs": [],
      "source": [
        "import pandas as pd\n",
        "import numpy as np\n",
        "\n",
        "# import libraries for plotting\n",
        "import matplotlib.pyplot as plt\n",
        "import seaborn as sns\n",
        "\n",
        "from sklearn.model_selection import train_test_split\n",
        "from sklearn.metrics import confusion_matrix, classification_report, f1_score, accuracy_score, precision_score, recall_score, roc_auc_score, roc_curve,\\\n",
        "    plot_confusion_matrix\n",
        "\n",
        "from sklearn.tree import DecisionTreeClassifier\n",
        "from sklearn.tree import export_graphviz\n",
        "import graphviz\n",
        "\n",
        "from sklearn.base import BaseEstimator, TransformerMixin\n",
        "\n",
        "from datetime import datetime\n",
        "from xgboost import XGBClassifier, plot_importance\n",
        "from xgboost import plot_tree"
      ]
    },
    {
      "cell_type": "code",
      "execution_count": 2,
      "metadata": {
        "colab": {
          "base_uri": "https://localhost:8080/",
          "height": 577
        },
        "id": "jp71qqhwiZ84",
        "outputId": "03f30045-376e-4855-805c-8122d6f66e42"
      },
      "outputs": [
        {
          "name": "stdout",
          "output_type": "stream",
          "text": [
            "train1 shape (18563, 21)\n",
            "train2 shape (18564, 21)\n",
            "train shape (37127, 21)\n"
          ]
        },
        {
          "data": {
            "text/html": [
              "<div>\n",
              "<style scoped>\n",
              "    .dataframe tbody tr th:only-of-type {\n",
              "        vertical-align: middle;\n",
              "    }\n",
              "\n",
              "    .dataframe tbody tr th {\n",
              "        vertical-align: top;\n",
              "    }\n",
              "\n",
              "    .dataframe thead th {\n",
              "        text-align: right;\n",
              "    }\n",
              "</style>\n",
              "<table border=\"1\" class=\"dataframe\">\n",
              "  <thead>\n",
              "    <tr style=\"text-align: right;\">\n",
              "      <th></th>\n",
              "      <th>countryName</th>\n",
              "      <th>eprtrSectorName</th>\n",
              "      <th>EPRTRAnnexIMainActivityLabel</th>\n",
              "      <th>FacilityInspireID</th>\n",
              "      <th>facilityName</th>\n",
              "      <th>City</th>\n",
              "      <th>targetRelease</th>\n",
              "      <th>pollutant</th>\n",
              "      <th>reportingYear</th>\n",
              "      <th>MONTH</th>\n",
              "      <th>...</th>\n",
              "      <th>CONTINENT</th>\n",
              "      <th>max_wind_speed</th>\n",
              "      <th>avg_wind_speed</th>\n",
              "      <th>min_wind_speed</th>\n",
              "      <th>max_temp</th>\n",
              "      <th>avg_temp</th>\n",
              "      <th>min_temp</th>\n",
              "      <th>DAY WITH FOGS</th>\n",
              "      <th>REPORTER NAME</th>\n",
              "      <th>CITY ID</th>\n",
              "    </tr>\n",
              "  </thead>\n",
              "  <tbody>\n",
              "    <tr>\n",
              "      <th>0</th>\n",
              "      <td>Germany</td>\n",
              "      <td>Mineral industry</td>\n",
              "      <td>Installations for the production of cement cli...</td>\n",
              "      <td>https://registry.gdi-de.org/id/de.ni.mu/062217...</td>\n",
              "      <td>Holcim (Deutschland) GmbH Werk Höver</td>\n",
              "      <td>Sehnde</td>\n",
              "      <td>AIR</td>\n",
              "      <td>Carbon dioxide (CO2)</td>\n",
              "      <td>2015</td>\n",
              "      <td>10</td>\n",
              "      <td>...</td>\n",
              "      <td>EUROPE</td>\n",
              "      <td>15.118767</td>\n",
              "      <td>14.312541</td>\n",
              "      <td>21.419106</td>\n",
              "      <td>2.864895</td>\n",
              "      <td>4.924169</td>\n",
              "      <td>9.688206</td>\n",
              "      <td>2</td>\n",
              "      <td>Mr. Jacob Ortega</td>\n",
              "      <td>7cdb5e74adcb2ffaa21c1b61395a984f</td>\n",
              "    </tr>\n",
              "    <tr>\n",
              "      <th>1</th>\n",
              "      <td>Italy</td>\n",
              "      <td>Mineral industry</td>\n",
              "      <td>Installations for the production of cement cli...</td>\n",
              "      <td>IT.CAED/240602021.FACILITY</td>\n",
              "      <td>Stabilimento di Tavernola Bergamasca</td>\n",
              "      <td>TAVERNOLA BERGAMASCA</td>\n",
              "      <td>AIR</td>\n",
              "      <td>Nitrogen oxides (NOX)</td>\n",
              "      <td>2018</td>\n",
              "      <td>9</td>\n",
              "      <td>...</td>\n",
              "      <td>EUROPE</td>\n",
              "      <td>19.661550</td>\n",
              "      <td>19.368166</td>\n",
              "      <td>21.756389</td>\n",
              "      <td>5.462839</td>\n",
              "      <td>7.864403</td>\n",
              "      <td>12.023521</td>\n",
              "      <td>1</td>\n",
              "      <td>Ashlee Serrano</td>\n",
              "      <td>cd1dbabbdba230b828c657a9b19a8963</td>\n",
              "    </tr>\n",
              "    <tr>\n",
              "      <th>2</th>\n",
              "      <td>Spain</td>\n",
              "      <td>Waste and wastewater management</td>\n",
              "      <td>Landfills (excluding landfills of inert waste ...</td>\n",
              "      <td>ES.CAED/001966000.FACILITY</td>\n",
              "      <td>COMPLEJO MEDIOAMBIENTAL DE ZURITA</td>\n",
              "      <td>PUERTO DEL ROSARIO</td>\n",
              "      <td>AIR</td>\n",
              "      <td>Methane (CH4)</td>\n",
              "      <td>2019</td>\n",
              "      <td>2</td>\n",
              "      <td>...</td>\n",
              "      <td>EUROPE</td>\n",
              "      <td>12.729453</td>\n",
              "      <td>14.701985</td>\n",
              "      <td>17.103930</td>\n",
              "      <td>1.511201</td>\n",
              "      <td>4.233438</td>\n",
              "      <td>8.632193</td>\n",
              "      <td>2</td>\n",
              "      <td>Vincent Kemp</td>\n",
              "      <td>5011e3fa1436d15b34f1287f312fbada</td>\n",
              "    </tr>\n",
              "    <tr>\n",
              "      <th>3</th>\n",
              "      <td>Czechia</td>\n",
              "      <td>Energy sector</td>\n",
              "      <td>Thermal power stations and other combustion in...</td>\n",
              "      <td>CZ.MZP.U422/CZ34736841.FACILITY</td>\n",
              "      <td>Elektrárny Prunéřov</td>\n",
              "      <td>Kadaň</td>\n",
              "      <td>AIR</td>\n",
              "      <td>Nitrogen oxides (NOX)</td>\n",
              "      <td>2012</td>\n",
              "      <td>8</td>\n",
              "      <td>...</td>\n",
              "      <td>EUROPE</td>\n",
              "      <td>11.856417</td>\n",
              "      <td>16.122584</td>\n",
              "      <td>17.537184</td>\n",
              "      <td>10.970301</td>\n",
              "      <td>10.298348</td>\n",
              "      <td>15.179215</td>\n",
              "      <td>0</td>\n",
              "      <td>Carol Gray</td>\n",
              "      <td>37a6d7a71c4f7c2469e4f01b70dd90c2</td>\n",
              "    </tr>\n",
              "    <tr>\n",
              "      <th>4</th>\n",
              "      <td>Finland</td>\n",
              "      <td>Waste and wastewater management</td>\n",
              "      <td>Urban waste-water treatment plants</td>\n",
              "      <td>http://paikkatiedot.fi/so/1002031/pf/Productio...</td>\n",
              "      <td>TAMPEREEN VESI LIIKELAITOS, VIINIKANLAHDEN JÄT...</td>\n",
              "      <td>Tampere</td>\n",
              "      <td>AIR</td>\n",
              "      <td>Methane (CH4)</td>\n",
              "      <td>2018</td>\n",
              "      <td>12</td>\n",
              "      <td>...</td>\n",
              "      <td>EUROPE</td>\n",
              "      <td>17.111930</td>\n",
              "      <td>20.201604</td>\n",
              "      <td>21.536012</td>\n",
              "      <td>11.772039</td>\n",
              "      <td>11.344078</td>\n",
              "      <td>16.039004</td>\n",
              "      <td>2</td>\n",
              "      <td>Blake Ford</td>\n",
              "      <td>471fe554e1c62d1b01cc8e4e5076c61a</td>\n",
              "    </tr>\n",
              "  </tbody>\n",
              "</table>\n",
              "<p>5 rows × 21 columns</p>\n",
              "</div>"
            ],
            "text/plain": [
              "  countryName                  eprtrSectorName  \\\n",
              "0     Germany                 Mineral industry   \n",
              "1       Italy                 Mineral industry   \n",
              "2       Spain  Waste and wastewater management   \n",
              "3     Czechia                    Energy sector   \n",
              "4     Finland  Waste and wastewater management   \n",
              "\n",
              "                        EPRTRAnnexIMainActivityLabel  \\\n",
              "0  Installations for the production of cement cli...   \n",
              "1  Installations for the production of cement cli...   \n",
              "2  Landfills (excluding landfills of inert waste ...   \n",
              "3  Thermal power stations and other combustion in...   \n",
              "4                 Urban waste-water treatment plants   \n",
              "\n",
              "                                   FacilityInspireID  \\\n",
              "0  https://registry.gdi-de.org/id/de.ni.mu/062217...   \n",
              "1                         IT.CAED/240602021.FACILITY   \n",
              "2                         ES.CAED/001966000.FACILITY   \n",
              "3                    CZ.MZP.U422/CZ34736841.FACILITY   \n",
              "4  http://paikkatiedot.fi/so/1002031/pf/Productio...   \n",
              "\n",
              "                                        facilityName                  City  \\\n",
              "0               Holcim (Deutschland) GmbH Werk Höver                Sehnde   \n",
              "1               Stabilimento di Tavernola Bergamasca  TAVERNOLA BERGAMASCA   \n",
              "2                  COMPLEJO MEDIOAMBIENTAL DE ZURITA    PUERTO DEL ROSARIO   \n",
              "3                                Elektrárny Prunéřov                 Kadaň   \n",
              "4  TAMPEREEN VESI LIIKELAITOS, VIINIKANLAHDEN JÄT...               Tampere   \n",
              "\n",
              "  targetRelease              pollutant  reportingYear  MONTH  ...  CONTINENT  \\\n",
              "0           AIR   Carbon dioxide (CO2)           2015     10  ...     EUROPE   \n",
              "1           AIR  Nitrogen oxides (NOX)           2018      9  ...     EUROPE   \n",
              "2           AIR          Methane (CH4)           2019      2  ...     EUROPE   \n",
              "3           AIR  Nitrogen oxides (NOX)           2012      8  ...     EUROPE   \n",
              "4           AIR          Methane (CH4)           2018     12  ...     EUROPE   \n",
              "\n",
              "  max_wind_speed  avg_wind_speed  min_wind_speed   max_temp   avg_temp  \\\n",
              "0      15.118767       14.312541       21.419106   2.864895   4.924169   \n",
              "1      19.661550       19.368166       21.756389   5.462839   7.864403   \n",
              "2      12.729453       14.701985       17.103930   1.511201   4.233438   \n",
              "3      11.856417       16.122584       17.537184  10.970301  10.298348   \n",
              "4      17.111930       20.201604       21.536012  11.772039  11.344078   \n",
              "\n",
              "    min_temp  DAY WITH FOGS     REPORTER NAME  \\\n",
              "0   9.688206              2  Mr. Jacob Ortega   \n",
              "1  12.023521              1    Ashlee Serrano   \n",
              "2   8.632193              2      Vincent Kemp   \n",
              "3  15.179215              0        Carol Gray   \n",
              "4  16.039004              2        Blake Ford   \n",
              "\n",
              "                            CITY ID  \n",
              "0  7cdb5e74adcb2ffaa21c1b61395a984f  \n",
              "1  cd1dbabbdba230b828c657a9b19a8963  \n",
              "2  5011e3fa1436d15b34f1287f312fbada  \n",
              "3  37a6d7a71c4f7c2469e4f01b70dd90c2  \n",
              "4  471fe554e1c62d1b01cc8e4e5076c61a  \n",
              "\n",
              "[5 rows x 21 columns]"
            ]
          },
          "execution_count": 2,
          "metadata": {},
          "output_type": "execute_result"
        }
      ],
      "source": [
        "train1_df = pd.read_csv(\"datasets/train1.csv\")\n",
        "train2_df = pd.read_csv(\"datasets/train2.csv\", sep=\";\")\n",
        "print('train1 shape', train1_df.shape)\n",
        "print('train2 shape', train2_df.shape)\n",
        "init_df = pd.concat([train1_df, train2_df], axis=0)\n",
        "train_df = init_df.copy(deep=True)\n",
        "print('train shape', train_df.shape)\n",
        "train_df.head()"
      ]
    },
    {
      "cell_type": "code",
      "execution_count": 3,
      "metadata": {
        "colab": {
          "base_uri": "https://localhost:8080/"
        },
        "id": "xwWt7kK6iZ85",
        "outputId": "57a5af27-5a79-4b81-8ec1-d27e14e189b6"
      },
      "outputs": [
        {
          "name": "stdout",
          "output_type": "stream",
          "text": [
            "<class 'pandas.core.frame.DataFrame'>\n",
            "Int64Index: 37127 entries, 0 to 18563\n",
            "Data columns (total 21 columns):\n",
            " #   Column                        Non-Null Count  Dtype  \n",
            "---  ------                        --------------  -----  \n",
            " 0   countryName                   37127 non-null  object \n",
            " 1   eprtrSectorName               37127 non-null  object \n",
            " 2   EPRTRAnnexIMainActivityLabel  37127 non-null  object \n",
            " 3   FacilityInspireID             37127 non-null  object \n",
            " 4   facilityName                  37127 non-null  object \n",
            " 5   City                          37127 non-null  object \n",
            " 6   targetRelease                 37127 non-null  object \n",
            " 7   pollutant                     37127 non-null  object \n",
            " 8   reportingYear                 37127 non-null  int64  \n",
            " 9   MONTH                         37127 non-null  int64  \n",
            " 10  DAY                           37127 non-null  int64  \n",
            " 11  CONTINENT                     37127 non-null  object \n",
            " 12  max_wind_speed                37127 non-null  float64\n",
            " 13  avg_wind_speed                37127 non-null  float64\n",
            " 14  min_wind_speed                37127 non-null  float64\n",
            " 15  max_temp                      37127 non-null  float64\n",
            " 16  avg_temp                      37127 non-null  float64\n",
            " 17  min_temp                      37127 non-null  float64\n",
            " 18  DAY WITH FOGS                 37127 non-null  int64  \n",
            " 19  REPORTER NAME                 37127 non-null  object \n",
            " 20  CITY ID                       37127 non-null  object \n",
            "dtypes: float64(6), int64(4), object(11)\n",
            "memory usage: 6.2+ MB\n"
          ]
        }
      ],
      "source": [
        "train_df.info()"
      ]
    },
    {
      "cell_type": "code",
      "execution_count": 4,
      "metadata": {
        "colab": {
          "base_uri": "https://localhost:8080/"
        },
        "id": "nwxSiIRQiZ86",
        "outputId": "bab2199c-f4e1-4cae-d9bc-bfee07be8452"
      },
      "outputs": [
        {
          "data": {
            "text/plain": [
              "countryName                     0\n",
              "eprtrSectorName                 0\n",
              "EPRTRAnnexIMainActivityLabel    0\n",
              "FacilityInspireID               0\n",
              "facilityName                    0\n",
              "City                            0\n",
              "targetRelease                   0\n",
              "pollutant                       0\n",
              "reportingYear                   0\n",
              "MONTH                           0\n",
              "DAY                             0\n",
              "CONTINENT                       0\n",
              "max_wind_speed                  0\n",
              "avg_wind_speed                  0\n",
              "min_wind_speed                  0\n",
              "max_temp                        0\n",
              "avg_temp                        0\n",
              "min_temp                        0\n",
              "DAY WITH FOGS                   0\n",
              "REPORTER NAME                   0\n",
              "CITY ID                         0\n",
              "dtype: int64"
            ]
          },
          "execution_count": 4,
          "metadata": {},
          "output_type": "execute_result"
        }
      ],
      "source": [
        "train_df.isnull().sum()"
      ]
    },
    {
      "cell_type": "code",
      "execution_count": 5,
      "metadata": {
        "id": "GqYbJHE-iZ86"
      },
      "outputs": [],
      "source": [
        "TARGET = \"pollutant\""
      ]
    },
    {
      "cell_type": "code",
      "execution_count": 6,
      "metadata": {
        "colab": {
          "base_uri": "https://localhost:8080/"
        },
        "id": "RsGJOXF-iZ87",
        "outputId": "025b5eb0-630f-4b47-aa69-ac309be3bb70"
      },
      "outputs": [
        {
          "data": {
            "text/plain": [
              "Nitrogen oxides (NOX)    14617\n",
              "Carbon dioxide (CO2)     13054\n",
              "Methane (CH4)             9456\n",
              "Name: pollutant, dtype: int64"
            ]
          },
          "execution_count": 6,
          "metadata": {},
          "output_type": "execute_result"
        }
      ],
      "source": [
        "train_df[TARGET].value_counts()"
      ]
    },
    {
      "cell_type": "code",
      "execution_count": 7,
      "metadata": {
        "colab": {
          "base_uri": "https://localhost:8080/",
          "height": 296
        },
        "id": "Rfde6VQ0iZ87",
        "outputId": "1545710d-2674-4d6b-acaa-84e2eb8c0a10"
      },
      "outputs": [
        {
          "data": {
            "text/plain": [
              "<AxesSubplot:xlabel='pollutant', ylabel='count'>"
            ]
          },
          "execution_count": 7,
          "metadata": {},
          "output_type": "execute_result"
        },
        {
          "data": {
            "image/png": "[encoded data removed]",
            "text/plain": [
              "<Figure size 432x288 with 1 Axes>"
            ]
          },
          "metadata": {
            "needs_background": "light"
          },
          "output_type": "display_data"
        }
      ],
      "source": [
        "sns.countplot(data=train_df, x=TARGET)"
      ]
    },
    {
      "cell_type": "code",
      "execution_count": 8,
      "metadata": {
        "colab": {
          "base_uri": "https://localhost:8080/"
        },
        "id": "RazbpcAHiZ88",
        "outputId": "26f9d978-e7ca-4bdb-8db1-dc886f7f6435"
      },
      "outputs": [
        {
          "data": {
            "text/plain": [
              "Germany           5055\n",
              "United Kingdom    5054\n",
              "France            4149\n",
              "Spain             3912\n",
              "Italy             3520\n",
              "Poland            2431\n",
              "Netherlands       1362\n",
              "Finland           1282\n",
              "Sweden            1166\n",
              "Belgium           1081\n",
              "Czechia           1073\n",
              "Romania           1045\n",
              "Austria            718\n",
              "Ireland            695\n",
              "Portugal           667\n",
              "Switzerland        628\n",
              "Denmark            564\n",
              "Greece             528\n",
              "Hungary            504\n",
              "Bulgaria           475\n",
              "Slovenia           277\n",
              "Norway             193\n",
              "Estonia            157\n",
              "Luxembourg         116\n",
              "Iceland             98\n",
              "Cyprus              90\n",
              "Lithuania           87\n",
              "Croatia             77\n",
              "Serbia              43\n",
              "Slovakia            35\n",
              "Malta               25\n",
              "Latvia              20\n",
              "Name: countryName, dtype: int64"
            ]
          },
          "execution_count": 8,
          "metadata": {},
          "output_type": "execute_result"
        }
      ],
      "source": [
        "train_df['countryName'].value_counts()"
      ]
    },
    {
      "cell_type": "code",
      "execution_count": 9,
      "metadata": {
        "colab": {
          "base_uri": "https://localhost:8080/",
          "height": 363
        },
        "id": "Yw0UcUG3iZ89",
        "outputId": "8707ecbf-fbe5-41a4-f4ac-30cd839b0e85"
      },
      "outputs": [
        {
          "data": {
            "text/html": [
              "<div>\n",
              "<style scoped>\n",
              "    .dataframe tbody tr th:only-of-type {\n",
              "        vertical-align: middle;\n",
              "    }\n",
              "\n",
              "    .dataframe tbody tr th {\n",
              "        vertical-align: top;\n",
              "    }\n",
              "\n",
              "    .dataframe thead th {\n",
              "        text-align: right;\n",
              "    }\n",
              "</style>\n",
              "<table border=\"1\" class=\"dataframe\">\n",
              "  <thead>\n",
              "    <tr style=\"text-align: right;\">\n",
              "      <th></th>\n",
              "      <th>count</th>\n",
              "      <th>mean</th>\n",
              "      <th>std</th>\n",
              "      <th>min</th>\n",
              "      <th>25%</th>\n",
              "      <th>50%</th>\n",
              "      <th>75%</th>\n",
              "      <th>max</th>\n",
              "    </tr>\n",
              "  </thead>\n",
              "  <tbody>\n",
              "    <tr>\n",
              "      <th>reportingYear</th>\n",
              "      <td>37127.0</td>\n",
              "      <td>2012.951841</td>\n",
              "      <td>3.856172</td>\n",
              "      <td>2007.000000</td>\n",
              "      <td>2010.000000</td>\n",
              "      <td>2013.000000</td>\n",
              "      <td>2016.000000</td>\n",
              "      <td>2020.000000</td>\n",
              "    </tr>\n",
              "    <tr>\n",
              "      <th>MONTH</th>\n",
              "      <td>37127.0</td>\n",
              "      <td>6.487031</td>\n",
              "      <td>3.467030</td>\n",
              "      <td>1.000000</td>\n",
              "      <td>3.000000</td>\n",
              "      <td>7.000000</td>\n",
              "      <td>9.000000</td>\n",
              "      <td>12.000000</td>\n",
              "    </tr>\n",
              "    <tr>\n",
              "      <th>DAY</th>\n",
              "      <td>37127.0</td>\n",
              "      <td>14.540335</td>\n",
              "      <td>8.128336</td>\n",
              "      <td>1.000000</td>\n",
              "      <td>8.000000</td>\n",
              "      <td>15.000000</td>\n",
              "      <td>22.000000</td>\n",
              "      <td>28.000000</td>\n",
              "    </tr>\n",
              "    <tr>\n",
              "      <th>max_wind_speed</th>\n",
              "      <td>37127.0</td>\n",
              "      <td>15.510519</td>\n",
              "      <td>3.070188</td>\n",
              "      <td>8.062689</td>\n",
              "      <td>13.315477</td>\n",
              "      <td>15.503568</td>\n",
              "      <td>17.708038</td>\n",
              "      <td>22.991382</td>\n",
              "    </tr>\n",
              "    <tr>\n",
              "      <th>avg_wind_speed</th>\n",
              "      <td>37127.0</td>\n",
              "      <td>18.013596</td>\n",
              "      <td>2.313407</td>\n",
              "      <td>14.000287</td>\n",
              "      <td>16.007158</td>\n",
              "      <td>18.006838</td>\n",
              "      <td>20.013530</td>\n",
              "      <td>21.999973</td>\n",
              "    </tr>\n",
              "    <tr>\n",
              "      <th>min_wind_speed</th>\n",
              "      <td>37127.0</td>\n",
              "      <td>22.523559</td>\n",
              "      <td>3.064919</td>\n",
              "      <td>15.055647</td>\n",
              "      <td>20.361339</td>\n",
              "      <td>22.553985</td>\n",
              "      <td>24.713992</td>\n",
              "      <td>29.914367</td>\n",
              "    </tr>\n",
              "    <tr>\n",
              "      <th>max_temp</th>\n",
              "      <td>37127.0</td>\n",
              "      <td>9.452422</td>\n",
              "      <td>5.232214</td>\n",
              "      <td>-3.141464</td>\n",
              "      <td>5.855159</td>\n",
              "      <td>9.734382</td>\n",
              "      <td>13.287165</td>\n",
              "      <td>20.855885</td>\n",
              "    </tr>\n",
              "    <tr>\n",
              "      <th>avg_temp</th>\n",
              "      <td>37127.0</td>\n",
              "      <td>10.441560</td>\n",
              "      <td>5.094000</td>\n",
              "      <td>-0.199176</td>\n",
              "      <td>7.158428</td>\n",
              "      <td>10.733914</td>\n",
              "      <td>14.162492</td>\n",
              "      <td>19.999403</td>\n",
              "    </tr>\n",
              "    <tr>\n",
              "      <th>min_temp</th>\n",
              "      <td>37127.0</td>\n",
              "      <td>13.431015</td>\n",
              "      <td>5.225196</td>\n",
              "      <td>0.894827</td>\n",
              "      <td>9.866841</td>\n",
              "      <td>13.723792</td>\n",
              "      <td>17.235091</td>\n",
              "      <td>24.855425</td>\n",
              "    </tr>\n",
              "    <tr>\n",
              "      <th>DAY WITH FOGS</th>\n",
              "      <td>37127.0</td>\n",
              "      <td>2.228217</td>\n",
              "      <td>3.775751</td>\n",
              "      <td>0.000000</td>\n",
              "      <td>0.000000</td>\n",
              "      <td>1.000000</td>\n",
              "      <td>2.000000</td>\n",
              "      <td>19.000000</td>\n",
              "    </tr>\n",
              "  </tbody>\n",
              "</table>\n",
              "</div>"
            ],
            "text/plain": [
              "                  count         mean       std          min          25%  \\\n",
              "reportingYear   37127.0  2012.951841  3.856172  2007.000000  2010.000000   \n",
              "MONTH           37127.0     6.487031  3.467030     1.000000     3.000000   \n",
              "DAY             37127.0    14.540335  8.128336     1.000000     8.000000   \n",
              "max_wind_speed  37127.0    15.510519  3.070188     8.062689    13.315477   \n",
              "avg_wind_speed  37127.0    18.013596  2.313407    14.000287    16.007158   \n",
              "min_wind_speed  37127.0    22.523559  3.064919    15.055647    20.361339   \n",
              "max_temp        37127.0     9.452422  5.232214    -3.141464     5.855159   \n",
              "avg_temp        37127.0    10.441560  5.094000    -0.199176     7.158428   \n",
              "min_temp        37127.0    13.431015  5.225196     0.894827     9.866841   \n",
              "DAY WITH FOGS   37127.0     2.228217  3.775751     0.000000     0.000000   \n",
              "\n",
              "                        50%          75%          max  \n",
              "reportingYear   2013.000000  2016.000000  2020.000000  \n",
              "MONTH              7.000000     9.000000    12.000000  \n",
              "DAY               15.000000    22.000000    28.000000  \n",
              "max_wind_speed    15.503568    17.708038    22.991382  \n",
              "avg_wind_speed    18.006838    20.013530    21.999973  \n",
              "min_wind_speed    22.553985    24.713992    29.914367  \n",
              "max_temp           9.734382    13.287165    20.855885  \n",
              "avg_temp          10.733914    14.162492    19.999403  \n",
              "min_temp          13.723792    17.235091    24.855425  \n",
              "DAY WITH FOGS      1.000000     2.000000    19.000000  "
            ]
          },
          "execution_count": 9,
          "metadata": {},
          "output_type": "execute_result"
        }
      ],
      "source": [
        "train_df.describe(include = np.number).T"
      ]
    },
    {
      "cell_type": "code",
      "execution_count": 10,
      "metadata": {
        "colab": {
          "base_uri": "https://localhost:8080/",
          "height": 466
        },
        "id": "UVcSNF1yiZ89",
        "outputId": "cd355e1a-34d6-4995-ece8-3b8ce38024ac"
      },
      "outputs": [
        {
          "name": "stderr",
          "output_type": "stream",
          "text": [
            "/var/folders/pt/rrqbl2q559x5dkq3bsgd3gzh0000gn/T/ipykernel_6270/2960769666.py:1: DeprecationWarning: `np.object` is a deprecated alias for the builtin `object`. To silence this warning, use `object` by itself. Doing this will not modify any behavior and is safe. \n",
            "Deprecated in NumPy 1.20; for more details and guidance: https://numpy.org/devdocs/release/1.20.0-notes.html#deprecations\n",
            "  train_df.describe(include = np.object).T\n"
          ]
        },
        {
          "data": {
            "text/html": [
              "<div>\n",
              "<style scoped>\n",
              "    .dataframe tbody tr th:only-of-type {\n",
              "        vertical-align: middle;\n",
              "    }\n",
              "\n",
              "    .dataframe tbody tr th {\n",
              "        vertical-align: top;\n",
              "    }\n",
              "\n",
              "    .dataframe thead th {\n",
              "        text-align: right;\n",
              "    }\n",
              "</style>\n",
              "<table border=\"1\" class=\"dataframe\">\n",
              "  <thead>\n",
              "    <tr style=\"text-align: right;\">\n",
              "      <th></th>\n",
              "      <th>count</th>\n",
              "      <th>unique</th>\n",
              "      <th>top</th>\n",
              "      <th>freq</th>\n",
              "    </tr>\n",
              "  </thead>\n",
              "  <tbody>\n",
              "    <tr>\n",
              "      <th>countryName</th>\n",
              "      <td>37127</td>\n",
              "      <td>32</td>\n",
              "      <td>Germany</td>\n",
              "      <td>5055</td>\n",
              "    </tr>\n",
              "    <tr>\n",
              "      <th>eprtrSectorName</th>\n",
              "      <td>37127</td>\n",
              "      <td>9</td>\n",
              "      <td>Energy sector</td>\n",
              "      <td>13914</td>\n",
              "    </tr>\n",
              "    <tr>\n",
              "      <th>EPRTRAnnexIMainActivityLabel</th>\n",
              "      <td>37127</td>\n",
              "      <td>70</td>\n",
              "      <td>Thermal power stations and other combustion in...</td>\n",
              "      <td>12149</td>\n",
              "    </tr>\n",
              "    <tr>\n",
              "      <th>FacilityInspireID</th>\n",
              "      <td>37127</td>\n",
              "      <td>6306</td>\n",
              "      <td>https://data.ied_registry.omgeving.vlaanderen....</td>\n",
              "      <td>32</td>\n",
              "    </tr>\n",
              "    <tr>\n",
              "      <th>facilityName</th>\n",
              "      <td>37127</td>\n",
              "      <td>6704</td>\n",
              "      <td>Enel Produzione S.p.A.</td>\n",
              "      <td>137</td>\n",
              "    </tr>\n",
              "    <tr>\n",
              "      <th>City</th>\n",
              "      <td>37127</td>\n",
              "      <td>4514</td>\n",
              "      <td>--</td>\n",
              "      <td>1116</td>\n",
              "    </tr>\n",
              "    <tr>\n",
              "      <th>targetRelease</th>\n",
              "      <td>37127</td>\n",
              "      <td>1</td>\n",
              "      <td>AIR</td>\n",
              "      <td>37127</td>\n",
              "    </tr>\n",
              "    <tr>\n",
              "      <th>pollutant</th>\n",
              "      <td>37127</td>\n",
              "      <td>3</td>\n",
              "      <td>Nitrogen oxides (NOX)</td>\n",
              "      <td>14617</td>\n",
              "    </tr>\n",
              "    <tr>\n",
              "      <th>CONTINENT</th>\n",
              "      <td>37127</td>\n",
              "      <td>1</td>\n",
              "      <td>EUROPE</td>\n",
              "      <td>37127</td>\n",
              "    </tr>\n",
              "    <tr>\n",
              "      <th>REPORTER NAME</th>\n",
              "      <td>37127</td>\n",
              "      <td>24686</td>\n",
              "      <td>Michael Brown</td>\n",
              "      <td>17</td>\n",
              "    </tr>\n",
              "    <tr>\n",
              "      <th>CITY ID</th>\n",
              "      <td>37127</td>\n",
              "      <td>4514</td>\n",
              "      <td>cfab1ba8c67c7c838db98d666f02a132</td>\n",
              "      <td>1116</td>\n",
              "    </tr>\n",
              "  </tbody>\n",
              "</table>\n",
              "</div>"
            ],
            "text/plain": [
              "                              count unique  \\\n",
              "countryName                   37127     32   \n",
              "eprtrSectorName               37127      9   \n",
              "EPRTRAnnexIMainActivityLabel  37127     70   \n",
              "FacilityInspireID             37127   6306   \n",
              "facilityName                  37127   6704   \n",
              "City                          37127   4514   \n",
              "targetRelease                 37127      1   \n",
              "pollutant                     37127      3   \n",
              "CONTINENT                     37127      1   \n",
              "REPORTER NAME                 37127  24686   \n",
              "CITY ID                       37127   4514   \n",
              "\n",
              "                                                                            top  \\\n",
              "countryName                                                             Germany   \n",
              "eprtrSectorName                                                   Energy sector   \n",
              "EPRTRAnnexIMainActivityLabel  Thermal power stations and other combustion in...   \n",
              "FacilityInspireID             https://data.ied_registry.omgeving.vlaanderen....   \n",
              "facilityName                                             Enel Produzione S.p.A.   \n",
              "City                                                                         --   \n",
              "targetRelease                                                               AIR   \n",
              "pollutant                                                 Nitrogen oxides (NOX)   \n",
              "CONTINENT                                                                EUROPE   \n",
              "REPORTER NAME                                                     Michael Brown   \n",
              "CITY ID                                        cfab1ba8c67c7c838db98d666f02a132   \n",
              "\n",
              "                               freq  \n",
              "countryName                    5055  \n",
              "eprtrSectorName               13914  \n",
              "EPRTRAnnexIMainActivityLabel  12149  \n",
              "FacilityInspireID                32  \n",
              "facilityName                    137  \n",
              "City                           1116  \n",
              "targetRelease                 37127  \n",
              "pollutant                     14617  \n",
              "CONTINENT                     37127  \n",
              "REPORTER NAME                    17  \n",
              "CITY ID                        1116  "
            ]
          },
          "execution_count": 10,
          "metadata": {},
          "output_type": "execute_result"
        }
      ],
      "source": [
        "train_df.describe(include = np.object).T"
      ]
    },
    {
      "cell_type": "code",
      "execution_count": 11,
      "metadata": {
        "id": "zTVOwcc2iZ8-"
      },
      "outputs": [],
      "source": [
        "columns_to_remove = ['targetRelease', 'CONTINENT', 'REPORTER NAME', 'CITY ID', 'facilityName', 'FacilityInspireID', 'City']"
      ]
    },
    {
      "cell_type": "code",
      "execution_count": 12,
      "metadata": {
        "id": "tKpTKuaDiZ8-"
      },
      "outputs": [],
      "source": [
        "train_df.drop(columns_to_remove, axis=1, inplace=True)"
      ]
    },
    {
      "cell_type": "code",
      "execution_count": 13,
      "metadata": {
        "id": "TTrEGT9jiZ8-"
      },
      "outputs": [],
      "source": [
        "columns_to_apply_OHE = [\n",
        "  'countryName', \n",
        "  'eprtrSectorName', \n",
        "  'EPRTRAnnexIMainActivityLabel', \n",
        "  ]"
      ]
    },
    {
      "cell_type": "code",
      "execution_count": 14,
      "metadata": {
        "id": "lXug-HS7iZ8_"
      },
      "outputs": [],
      "source": [
        "def OHE(col_name,dataframe):\n",
        "  _dummy_dataset = pd.get_dummies(dataframe[col_name], prefix = col_name)\n",
        "  dataframe = pd.concat([dataframe,_dummy_dataset], axis = 1)\n",
        "  return dataframe.drop([col_name], axis =1)"
      ]
    },
    {
      "cell_type": "code",
      "execution_count": 15,
      "metadata": {
        "id": "VbGLlbVBiZ9A"
      },
      "outputs": [],
      "source": [
        "for col in columns_to_apply_OHE:\n",
        "  train_df = OHE(col, train_df)"
      ]
    },
    {
      "cell_type": "code",
      "execution_count": 16,
      "metadata": {
        "colab": {
          "base_uri": "https://localhost:8080/"
        },
        "id": "makoWgfQiZ9A",
        "outputId": "e398de40-8f0a-4cad-d256-922799d4bf3e"
      },
      "outputs": [
        {
          "data": {
            "text/plain": [
              "array(['Carbon dioxide (CO2)', 'Nitrogen oxides (NOX)', 'Methane (CH4)'],\n",
              "      dtype=object)"
            ]
          },
          "execution_count": 16,
          "metadata": {},
          "output_type": "execute_result"
        }
      ],
      "source": [
        "train_df[TARGET].unique()"
      ]
    },
    {
      "cell_type": "code",
      "execution_count": 17,
      "metadata": {
        "id": "NBdFGNeZiZ9A"
      },
      "outputs": [],
      "source": [
        "dict_target = {\n",
        "  \"Nitrogen oxides (NOX)\": 0,\n",
        "  \"Carbon dioxide (CO2)\": 1,\n",
        "  \"Methane (CH4)\": 2,\n",
        "}"
      ]
    },
    {
      "cell_type": "code",
      "execution_count": 18,
      "metadata": {
        "id": "e_Jic66aiZ9A"
      },
      "outputs": [],
      "source": [
        "train_df[TARGET] = train_df[TARGET].apply(lambda value: dict_target[value])"
      ]
    },
    {
      "cell_type": "code",
      "execution_count": 19,
      "metadata": {
        "colab": {
          "base_uri": "https://localhost:8080/"
        },
        "id": "ROHhNNIliZ9B",
        "outputId": "682c2c68-4110-4917-d52a-43a715ecdbcf"
      },
      "outputs": [
        {
          "data": {
            "text/plain": [
              "array([1, 0, 2])"
            ]
          },
          "execution_count": 19,
          "metadata": {},
          "output_type": "execute_result"
        }
      ],
      "source": [
        "train_df[TARGET].unique()"
      ]
    },
    {
      "cell_type": "code",
      "execution_count": 20,
      "metadata": {
        "colab": {
          "base_uri": "https://localhost:8080/",
          "height": 609
        },
        "id": "gc_39LAqiZ9B",
        "outputId": "e1edeeb1-5233-4a5a-8339-6772c4353418"
      },
      "outputs": [
        {
          "data": {
            "text/html": [
              "<div>\n",
              "<style scoped>\n",
              "    .dataframe tbody tr th:only-of-type {\n",
              "        vertical-align: middle;\n",
              "    }\n",
              "\n",
              "    .dataframe tbody tr th {\n",
              "        vertical-align: top;\n",
              "    }\n",
              "\n",
              "    .dataframe thead th {\n",
              "        text-align: right;\n",
              "    }\n",
              "</style>\n",
              "<table border=\"1\" class=\"dataframe\">\n",
              "  <thead>\n",
              "    <tr style=\"text-align: right;\">\n",
              "      <th></th>\n",
              "      <th>pollutant</th>\n",
              "      <th>reportingYear</th>\n",
              "      <th>MONTH</th>\n",
              "      <th>DAY</th>\n",
              "      <th>max_wind_speed</th>\n",
              "      <th>avg_wind_speed</th>\n",
              "      <th>min_wind_speed</th>\n",
              "      <th>max_temp</th>\n",
              "      <th>avg_temp</th>\n",
              "      <th>min_temp</th>\n",
              "      <th>...</th>\n",
              "      <th>EPRTRAnnexIMainActivityLabel_Opencast mining and quarrying</th>\n",
              "      <th>EPRTRAnnexIMainActivityLabel_Plants for the pre-treatment (operations such as washing, bleaching, mercerisation) or dyeing of fibres or textiles</th>\n",
              "      <th>EPRTRAnnexIMainActivityLabel_Slaughterhouses</th>\n",
              "      <th>EPRTRAnnexIMainActivityLabel_Thermal power stations and other combustion installations</th>\n",
              "      <th>EPRTRAnnexIMainActivityLabel_Treatment and processing intended for the production of food and beverage products from animal raw materials (other than milk)</th>\n",
              "      <th>EPRTRAnnexIMainActivityLabel_Treatment and processing intended for the production of food and beverage products from vegetable raw materials</th>\n",
              "      <th>EPRTRAnnexIMainActivityLabel_Treatment and processing intended for the production of food and beverage products. Note to reporters, use Level 3 activity e.g. 8(b)(i), in preference to 8(b). Level 2 activity class (i.e. 8(b)) only to be used where Level 3 is not available.</th>\n",
              "      <th>EPRTRAnnexIMainActivityLabel_Treatment and processing of milk</th>\n",
              "      <th>EPRTRAnnexIMainActivityLabel_Underground mining and related operations</th>\n",
              "      <th>EPRTRAnnexIMainActivityLabel_Urban waste-water treatment plants</th>\n",
              "    </tr>\n",
              "  </thead>\n",
              "  <tbody>\n",
              "    <tr>\n",
              "      <th>0</th>\n",
              "      <td>1</td>\n",
              "      <td>2015</td>\n",
              "      <td>10</td>\n",
              "      <td>20</td>\n",
              "      <td>15.118767</td>\n",
              "      <td>14.312541</td>\n",
              "      <td>21.419106</td>\n",
              "      <td>2.864895</td>\n",
              "      <td>4.924169</td>\n",
              "      <td>9.688206</td>\n",
              "      <td>...</td>\n",
              "      <td>0</td>\n",
              "      <td>0</td>\n",
              "      <td>0</td>\n",
              "      <td>0</td>\n",
              "      <td>0</td>\n",
              "      <td>0</td>\n",
              "      <td>0</td>\n",
              "      <td>0</td>\n",
              "      <td>0</td>\n",
              "      <td>0</td>\n",
              "    </tr>\n",
              "    <tr>\n",
              "      <th>1</th>\n",
              "      <td>0</td>\n",
              "      <td>2018</td>\n",
              "      <td>9</td>\n",
              "      <td>21</td>\n",
              "      <td>19.661550</td>\n",
              "      <td>19.368166</td>\n",
              "      <td>21.756389</td>\n",
              "      <td>5.462839</td>\n",
              "      <td>7.864403</td>\n",
              "      <td>12.023521</td>\n",
              "      <td>...</td>\n",
              "      <td>0</td>\n",
              "      <td>0</td>\n",
              "      <td>0</td>\n",
              "      <td>0</td>\n",
              "      <td>0</td>\n",
              "      <td>0</td>\n",
              "      <td>0</td>\n",
              "      <td>0</td>\n",
              "      <td>0</td>\n",
              "      <td>0</td>\n",
              "    </tr>\n",
              "    <tr>\n",
              "      <th>2</th>\n",
              "      <td>2</td>\n",
              "      <td>2019</td>\n",
              "      <td>2</td>\n",
              "      <td>4</td>\n",
              "      <td>12.729453</td>\n",
              "      <td>14.701985</td>\n",
              "      <td>17.103930</td>\n",
              "      <td>1.511201</td>\n",
              "      <td>4.233438</td>\n",
              "      <td>8.632193</td>\n",
              "      <td>...</td>\n",
              "      <td>0</td>\n",
              "      <td>0</td>\n",
              "      <td>0</td>\n",
              "      <td>0</td>\n",
              "      <td>0</td>\n",
              "      <td>0</td>\n",
              "      <td>0</td>\n",
              "      <td>0</td>\n",
              "      <td>0</td>\n",
              "      <td>0</td>\n",
              "    </tr>\n",
              "    <tr>\n",
              "      <th>3</th>\n",
              "      <td>0</td>\n",
              "      <td>2012</td>\n",
              "      <td>8</td>\n",
              "      <td>6</td>\n",
              "      <td>11.856417</td>\n",
              "      <td>16.122584</td>\n",
              "      <td>17.537184</td>\n",
              "      <td>10.970301</td>\n",
              "      <td>10.298348</td>\n",
              "      <td>15.179215</td>\n",
              "      <td>...</td>\n",
              "      <td>0</td>\n",
              "      <td>0</td>\n",
              "      <td>0</td>\n",
              "      <td>1</td>\n",
              "      <td>0</td>\n",
              "      <td>0</td>\n",
              "      <td>0</td>\n",
              "      <td>0</td>\n",
              "      <td>0</td>\n",
              "      <td>0</td>\n",
              "    </tr>\n",
              "    <tr>\n",
              "      <th>4</th>\n",
              "      <td>2</td>\n",
              "      <td>2018</td>\n",
              "      <td>12</td>\n",
              "      <td>22</td>\n",
              "      <td>17.111930</td>\n",
              "      <td>20.201604</td>\n",
              "      <td>21.536012</td>\n",
              "      <td>11.772039</td>\n",
              "      <td>11.344078</td>\n",
              "      <td>16.039004</td>\n",
              "      <td>...</td>\n",
              "      <td>0</td>\n",
              "      <td>0</td>\n",
              "      <td>0</td>\n",
              "      <td>0</td>\n",
              "      <td>0</td>\n",
              "      <td>0</td>\n",
              "      <td>0</td>\n",
              "      <td>0</td>\n",
              "      <td>0</td>\n",
              "      <td>1</td>\n",
              "    </tr>\n",
              "    <tr>\n",
              "      <th>...</th>\n",
              "      <td>...</td>\n",
              "      <td>...</td>\n",
              "      <td>...</td>\n",
              "      <td>...</td>\n",
              "      <td>...</td>\n",
              "      <td>...</td>\n",
              "      <td>...</td>\n",
              "      <td>...</td>\n",
              "      <td>...</td>\n",
              "      <td>...</td>\n",
              "      <td>...</td>\n",
              "      <td>...</td>\n",
              "      <td>...</td>\n",
              "      <td>...</td>\n",
              "      <td>...</td>\n",
              "      <td>...</td>\n",
              "      <td>...</td>\n",
              "      <td>...</td>\n",
              "      <td>...</td>\n",
              "      <td>...</td>\n",
              "      <td>...</td>\n",
              "    </tr>\n",
              "    <tr>\n",
              "      <th>18559</th>\n",
              "      <td>0</td>\n",
              "      <td>2007</td>\n",
              "      <td>7</td>\n",
              "      <td>25</td>\n",
              "      <td>12.972697</td>\n",
              "      <td>15.703894</td>\n",
              "      <td>23.054179</td>\n",
              "      <td>13.769423</td>\n",
              "      <td>13.898824</td>\n",
              "      <td>16.315857</td>\n",
              "      <td>...</td>\n",
              "      <td>0</td>\n",
              "      <td>0</td>\n",
              "      <td>0</td>\n",
              "      <td>0</td>\n",
              "      <td>0</td>\n",
              "      <td>0</td>\n",
              "      <td>0</td>\n",
              "      <td>0</td>\n",
              "      <td>0</td>\n",
              "      <td>0</td>\n",
              "    </tr>\n",
              "    <tr>\n",
              "      <th>18560</th>\n",
              "      <td>1</td>\n",
              "      <td>2020</td>\n",
              "      <td>7</td>\n",
              "      <td>21</td>\n",
              "      <td>9.938614</td>\n",
              "      <td>15.537484</td>\n",
              "      <td>18.433252</td>\n",
              "      <td>15.422341</td>\n",
              "      <td>17.371004</td>\n",
              "      <td>18.625890</td>\n",
              "      <td>...</td>\n",
              "      <td>0</td>\n",
              "      <td>0</td>\n",
              "      <td>0</td>\n",
              "      <td>1</td>\n",
              "      <td>0</td>\n",
              "      <td>0</td>\n",
              "      <td>0</td>\n",
              "      <td>0</td>\n",
              "      <td>0</td>\n",
              "      <td>0</td>\n",
              "    </tr>\n",
              "    <tr>\n",
              "      <th>18561</th>\n",
              "      <td>0</td>\n",
              "      <td>2008</td>\n",
              "      <td>5</td>\n",
              "      <td>26</td>\n",
              "      <td>12.919380</td>\n",
              "      <td>16.680595</td>\n",
              "      <td>19.082165</td>\n",
              "      <td>13.045298</td>\n",
              "      <td>15.043109</td>\n",
              "      <td>18.692182</td>\n",
              "      <td>...</td>\n",
              "      <td>0</td>\n",
              "      <td>0</td>\n",
              "      <td>0</td>\n",
              "      <td>0</td>\n",
              "      <td>0</td>\n",
              "      <td>0</td>\n",
              "      <td>0</td>\n",
              "      <td>0</td>\n",
              "      <td>0</td>\n",
              "      <td>0</td>\n",
              "    </tr>\n",
              "    <tr>\n",
              "      <th>18562</th>\n",
              "      <td>1</td>\n",
              "      <td>2008</td>\n",
              "      <td>11</td>\n",
              "      <td>18</td>\n",
              "      <td>11.508290</td>\n",
              "      <td>15.439616</td>\n",
              "      <td>23.106673</td>\n",
              "      <td>1.972343</td>\n",
              "      <td>1.958249</td>\n",
              "      <td>5.721142</td>\n",
              "      <td>...</td>\n",
              "      <td>0</td>\n",
              "      <td>0</td>\n",
              "      <td>0</td>\n",
              "      <td>0</td>\n",
              "      <td>0</td>\n",
              "      <td>0</td>\n",
              "      <td>0</td>\n",
              "      <td>0</td>\n",
              "      <td>0</td>\n",
              "      <td>0</td>\n",
              "    </tr>\n",
              "    <tr>\n",
              "      <th>18563</th>\n",
              "      <td>0</td>\n",
              "      <td>2007</td>\n",
              "      <td>9</td>\n",
              "      <td>1</td>\n",
              "      <td>13.354142</td>\n",
              "      <td>14.900148</td>\n",
              "      <td>22.676434</td>\n",
              "      <td>0.258915</td>\n",
              "      <td>0.607958</td>\n",
              "      <td>2.909440</td>\n",
              "      <td>...</td>\n",
              "      <td>0</td>\n",
              "      <td>0</td>\n",
              "      <td>0</td>\n",
              "      <td>0</td>\n",
              "      <td>0</td>\n",
              "      <td>0</td>\n",
              "      <td>0</td>\n",
              "      <td>0</td>\n",
              "      <td>0</td>\n",
              "      <td>0</td>\n",
              "    </tr>\n",
              "  </tbody>\n",
              "</table>\n",
              "<p>37127 rows × 122 columns</p>\n",
              "</div>"
            ],
            "text/plain": [
              "       pollutant  reportingYear  MONTH  DAY  max_wind_speed  avg_wind_speed  \\\n",
              "0              1           2015     10   20       15.118767       14.312541   \n",
              "1              0           2018      9   21       19.661550       19.368166   \n",
              "2              2           2019      2    4       12.729453       14.701985   \n",
              "3              0           2012      8    6       11.856417       16.122584   \n",
              "4              2           2018     12   22       17.111930       20.201604   \n",
              "...          ...            ...    ...  ...             ...             ...   \n",
              "18559          0           2007      7   25       12.972697       15.703894   \n",
              "18560          1           2020      7   21        9.938614       15.537484   \n",
              "18561          0           2008      5   26       12.919380       16.680595   \n",
              "18562          1           2008     11   18       11.508290       15.439616   \n",
              "18563          0           2007      9    1       13.354142       14.900148   \n",
              "\n",
              "       min_wind_speed   max_temp   avg_temp   min_temp  ...  \\\n",
              "0           21.419106   2.864895   4.924169   9.688206  ...   \n",
              "1           21.756389   5.462839   7.864403  12.023521  ...   \n",
              "2           17.103930   1.511201   4.233438   8.632193  ...   \n",
              "3           17.537184  10.970301  10.298348  15.179215  ...   \n",
              "4           21.536012  11.772039  11.344078  16.039004  ...   \n",
              "...               ...        ...        ...        ...  ...   \n",
              "18559       23.054179  13.769423  13.898824  16.315857  ...   \n",
              "18560       18.433252  15.422341  17.371004  18.625890  ...   \n",
              "18561       19.082165  13.045298  15.043109  18.692182  ...   \n",
              "18562       23.106673   1.972343   1.958249   5.721142  ...   \n",
              "18563       22.676434   0.258915   0.607958   2.909440  ...   \n",
              "\n",
              "       EPRTRAnnexIMainActivityLabel_Opencast mining and quarrying  \\\n",
              "0                                                      0            \n",
              "1                                                      0            \n",
              "2                                                      0            \n",
              "3                                                      0            \n",
              "4                                                      0            \n",
              "...                                                  ...            \n",
              "18559                                                  0            \n",
              "18560                                                  0            \n",
              "18561                                                  0            \n",
              "18562                                                  0            \n",
              "18563                                                  0            \n",
              "\n",
              "       EPRTRAnnexIMainActivityLabel_Plants for the pre-treatment (operations such as washing, bleaching, mercerisation) or dyeing of fibres or textiles  \\\n",
              "0                                                      0                                                                                                  \n",
              "1                                                      0                                                                                                  \n",
              "2                                                      0                                                                                                  \n",
              "3                                                      0                                                                                                  \n",
              "4                                                      0                                                                                                  \n",
              "...                                                  ...                                                                                                  \n",
              "18559                                                  0                                                                                                  \n",
              "18560                                                  0                                                                                                  \n",
              "18561                                                  0                                                                                                  \n",
              "18562                                                  0                                                                                                  \n",
              "18563                                                  0                                                                                                  \n",
              "\n",
              "       EPRTRAnnexIMainActivityLabel_Slaughterhouses  \\\n",
              "0                                                 0   \n",
              "1                                                 0   \n",
              "2                                                 0   \n",
              "3                                                 0   \n",
              "4                                                 0   \n",
              "...                                             ...   \n",
              "18559                                             0   \n",
              "18560                                             0   \n",
              "18561                                             0   \n",
              "18562                                             0   \n",
              "18563                                             0   \n",
              "\n",
              "       EPRTRAnnexIMainActivityLabel_Thermal power stations and other combustion installations  \\\n",
              "0                                                      0                                        \n",
              "1                                                      0                                        \n",
              "2                                                      0                                        \n",
              "3                                                      1                                        \n",
              "4                                                      0                                        \n",
              "...                                                  ...                                        \n",
              "18559                                                  0                                        \n",
              "18560                                                  1                                        \n",
              "18561                                                  0                                        \n",
              "18562                                                  0                                        \n",
              "18563                                                  0                                        \n",
              "\n",
              "       EPRTRAnnexIMainActivityLabel_Treatment and processing intended for the production of food and beverage products from animal raw materials (other than milk)  \\\n",
              "0                                                      0                                                                                                             \n",
              "1                                                      0                                                                                                             \n",
              "2                                                      0                                                                                                             \n",
              "3                                                      0                                                                                                             \n",
              "4                                                      0                                                                                                             \n",
              "...                                                  ...                                                                                                             \n",
              "18559                                                  0                                                                                                             \n",
              "18560                                                  0                                                                                                             \n",
              "18561                                                  0                                                                                                             \n",
              "18562                                                  0                                                                                                             \n",
              "18563                                                  0                                                                                                             \n",
              "\n",
              "       EPRTRAnnexIMainActivityLabel_Treatment and processing intended for the production of food and beverage products from vegetable raw materials  \\\n",
              "0                                                      0                                                                                              \n",
              "1                                                      0                                                                                              \n",
              "2                                                      0                                                                                              \n",
              "3                                                      0                                                                                              \n",
              "4                                                      0                                                                                              \n",
              "...                                                  ...                                                                                              \n",
              "18559                                                  0                                                                                              \n",
              "18560                                                  0                                                                                              \n",
              "18561                                                  0                                                                                              \n",
              "18562                                                  0                                                                                              \n",
              "18563                                                  0                                                                                              \n",
              "\n",
              "       EPRTRAnnexIMainActivityLabel_Treatment and processing intended for the production of food and beverage products. Note to reporters, use Level 3 activity e.g. 8(b)(i), in preference to 8(b). Level 2 activity class (i.e. 8(b)) only to be used where Level 3 is not available.  \\\n",
              "0                                                      0                                                                                                                                                                                                                                  \n",
              "1                                                      0                                                                                                                                                                                                                                  \n",
              "2                                                      0                                                                                                                                                                                                                                  \n",
              "3                                                      0                                                                                                                                                                                                                                  \n",
              "4                                                      0                                                                                                                                                                                                                                  \n",
              "...                                                  ...                                                                                                                                                                                                                                  \n",
              "18559                                                  0                                                                                                                                                                                                                                  \n",
              "18560                                                  0                                                                                                                                                                                                                                  \n",
              "18561                                                  0                                                                                                                                                                                                                                  \n",
              "18562                                                  0                                                                                                                                                                                                                                  \n",
              "18563                                                  0                                                                                                                                                                                                                                  \n",
              "\n",
              "       EPRTRAnnexIMainActivityLabel_Treatment and processing of milk  \\\n",
              "0                                                      0               \n",
              "1                                                      0               \n",
              "2                                                      0               \n",
              "3                                                      0               \n",
              "4                                                      0               \n",
              "...                                                  ...               \n",
              "18559                                                  0               \n",
              "18560                                                  0               \n",
              "18561                                                  0               \n",
              "18562                                                  0               \n",
              "18563                                                  0               \n",
              "\n",
              "       EPRTRAnnexIMainActivityLabel_Underground mining and related operations  \\\n",
              "0                                                      0                        \n",
              "1                                                      0                        \n",
              "2                                                      0                        \n",
              "3                                                      0                        \n",
              "4                                                      0                        \n",
              "...                                                  ...                        \n",
              "18559                                                  0                        \n",
              "18560                                                  0                        \n",
              "18561                                                  0                        \n",
              "18562                                                  0                        \n",
              "18563                                                  0                        \n",
              "\n",
              "       EPRTRAnnexIMainActivityLabel_Urban waste-water treatment plants  \n",
              "0                                                      0                \n",
              "1                                                      0                \n",
              "2                                                      0                \n",
              "3                                                      0                \n",
              "4                                                      1                \n",
              "...                                                  ...                \n",
              "18559                                                  0                \n",
              "18560                                                  0                \n",
              "18561                                                  0                \n",
              "18562                                                  0                \n",
              "18563                                                  0                \n",
              "\n",
              "[37127 rows x 122 columns]"
            ]
          },
          "execution_count": 20,
          "metadata": {},
          "output_type": "execute_result"
        }
      ],
      "source": [
        "train_df"
      ]
    },
    {
      "cell_type": "code",
      "execution_count": 21,
      "metadata": {
        "colab": {
          "base_uri": "https://localhost:8080/"
        },
        "id": "4XYgIgJtiZ9B",
        "outputId": "6ed6b385-1845-4809-d1a8-7e85ff53ddf9"
      },
      "outputs": [
        {
          "name": "stdout",
          "output_type": "stream",
          "text": [
            "(29701, 121) (7426, 121) (29701, 1) (7426, 1)\n"
          ]
        }
      ],
      "source": [
        "dev_df_X = train_df.drop(TARGET, axis = 1)\n",
        "dev_df_y = train_df[[TARGET]]\n",
        "X_train, X_test, y_train, y_test = train_test_split(dev_df_X, dev_df_y, test_size=0.2, random_state=42)\n",
        "print(X_train.shape, X_test.shape, y_train.shape, y_test.shape)"
      ]
    },
    {
      "cell_type": "code",
      "execution_count": 22,
      "metadata": {
        "colab": {
          "base_uri": "https://localhost:8080/"
        },
        "id": "tFEwc8bWsyot",
        "outputId": "22ba548a-575a-4cee-f902-46b2b3b83ca7"
      },
      "outputs": [
        {
          "name": "stdout",
          "output_type": "stream",
          "text": [
            "\n",
            "TRAIN:\n",
            "    X_train.shape: (29701, 121)\n",
            "    y_train.shape: (29701, 1)\n",
            "TEST:\n",
            "    X_test.shape: (7426, 121)\n",
            "    y_test.shape: (7426, 1)\n",
            "\n"
          ]
        }
      ],
      "source": [
        "print(f\"\"\"\n",
        "TRAIN:\n",
        "    X_train.shape: {X_train.shape}\n",
        "    y_train.shape: {y_train.shape}\n",
        "TEST:\n",
        "    X_test.shape: {X_test.shape}\n",
        "    y_test.shape: {y_test.shape}\n",
        "\"\"\")"
      ]
    },
    {
      "cell_type": "code",
      "execution_count": 23,
      "metadata": {
        "colab": {
          "base_uri": "https://localhost:8080/"
        },
        "id": "IUSoYbWTiZ9C",
        "outputId": "3be2836f-58df-478c-8838-562d958dc5a2"
      },
      "outputs": [
        {
          "ename": "Error",
          "evalue": "Canceled future for execute_request message before replies were done",
          "output_type": "error",
          "traceback": [
            "Error: Canceled future for execute_request message before replies were done",
            "at t.KernelShellFutureHandler.dispose (/Users/artur/.vscode/extensions/ms-toolsai.jupyter-2022.3.1000901801/out/extension.js:2:1204175)",
            "at /Users/artur/.vscode/extensions/ms-toolsai.jupyter-2022.3.1000901801/out/extension.js:2:1223227",
            "at Map.forEach (<anonymous>)",
            "at v._clearKernelState (/Users/artur/.vscode/extensions/ms-toolsai.jupyter-2022.3.1000901801/out/extension.js:2:1223212)",
            "at v.dispose (/Users/artur/.vscode/extensions/ms-toolsai.jupyter-2022.3.1000901801/out/extension.js:2:1216694)",
            "at /Users/artur/.vscode/extensions/ms-toolsai.jupyter-2022.3.1000901801/out/extension.js:2:533674",
            "at t.swallowExceptions (/Users/artur/.vscode/extensions/ms-toolsai.jupyter-2022.3.1000901801/out/extension.js:2:913059)",
            "at dispose (/Users/artur/.vscode/extensions/ms-toolsai.jupyter-2022.3.1000901801/out/extension.js:2:533652)",
            "at t.RawSession.dispose (/Users/artur/.vscode/extensions/ms-toolsai.jupyter-2022.3.1000901801/out/extension.js:2:537330)",
            "at runMicrotasks (<anonymous>)",
            "at processTicksAndRejections (node:internal/process/task_queues:96:5)"
          ]
        }
      ],
      "source": [
        "model: XGBClassifier = XGBClassifier(\n",
        "    max_depth=5,\n",
        "    min_child_weight=100,\n",
        "    random_state=42,\n",
        "    use_label_encoder=False,\n",
        "    objective='multi:softprob'\n",
        ")\n",
        "eval_set = [(X_train, y_train.values.ravel()), (X_test, y_test.values.ravel())]\n",
        "model.fit(\n",
        "    X_train,\n",
        "    y_train.values.ravel(),\n",
        "    eval_metric=\"mlogloss\",\n",
        "    eval_set=eval_set,\n",
        "    verbose=True,\n",
        "    early_stopping_rounds=10,\n",
        ")"
      ]
    },
    {
      "cell_type": "code",
      "execution_count": null,
      "metadata": {
        "colab": {
          "base_uri": "https://localhost:8080/",
          "height": 294
        },
        "id": "_NXLNYsjq1ts",
        "outputId": "2b5467e6-a671-4cc9-b601-d0910c4d4352"
      },
      "outputs": [
        {
          "data": {
            "text/plain": [
              "<matplotlib.axes._subplots.AxesSubplot at 0x7f9abc53f110>"
            ]
          },
          "execution_count": 201,
          "metadata": {},
          "output_type": "execute_result"
        },
        {
          "data": {
            "image/png": "[encoded data removed]",
            "text/plain": [
              "<Figure size 1800x504 with 2 Axes>"
            ]
          },
          "metadata": {
            "needs_background": "light"
          },
          "output_type": "display_data"
        }
      ],
      "source": [
        "fig, (ax1, ax2) = plt.subplots(1, 2, figsize=(25, 7))\n",
        "# \"weight\" is the number of times a feature appears in a tree\n",
        "plot_importance(model, height=0.7, max_num_features=10, ax=ax1, importance_type=\"weight\",\n",
        "                title=\"Feature Importance (Weight)\")\n",
        "\n",
        "# \"gain\" is the average gain of splits which use the feature\n",
        "plot_importance(model, height=0.7, max_num_features=10, ax=ax2, importance_type=\"gain\",\n",
        "                title=\"Feature Importance (Gain)\")"
      ]
    },
    {
      "cell_type": "code",
      "execution_count": null,
      "metadata": {
        "id": "KhDVxB3wrUdL"
      },
      "outputs": [],
      "source": [
        "y_pred = model.predict(X_test)"
      ]
    },
    {
      "cell_type": "code",
      "execution_count": null,
      "metadata": {
        "id": "tWSFbakTvIrB"
      },
      "outputs": [],
      "source": [
        "y_pred_train = model.predict(X_train)\n"
      ]
    },
    {
      "cell_type": "code",
      "execution_count": null,
      "metadata": {
        "colab": {
          "base_uri": "https://localhost:8080/"
        },
        "id": "qS89dLYXvET4",
        "outputId": "83c817d2-8d2c-4aa5-aad9-519f4e8eac55"
      },
      "outputs": [
        {
          "name": "stdout",
          "output_type": "stream",
          "text": [
            "f1_score 0.6786335851253223\n"
          ]
        }
      ],
      "source": [
        "print('f1_score', f1_score(y_train, y_pred_train, average='macro'))\n"
      ]
    },
    {
      "cell_type": "code",
      "execution_count": null,
      "metadata": {
        "colab": {
          "base_uri": "https://localhost:8080/"
        },
        "id": "kda5MnaUrQHo",
        "outputId": "ba0c696c-f4b2-450c-ee0c-5c43b967e415"
      },
      "outputs": [
        {
          "name": "stdout",
          "output_type": "stream",
          "text": [
            "f1_score 0.6532852229057765\n"
          ]
        }
      ],
      "source": [
        "print('f1_score', f1_score(y_test, y_pred, average='macro'))"
      ]
    },
    {
      "cell_type": "code",
      "execution_count": null,
      "metadata": {
        "colab": {
          "base_uri": "https://localhost:8080/",
          "height": 175
        },
        "id": "xkDVpjRhr7Vu",
        "outputId": "e4f7e497-9019-46ae-c1bf-2286dfcd0ddb"
      },
      "outputs": [
        {
          "data": {
            "text/html": [
              "\n",
              "  <div id=\"df-ab29f566-e837-40e8-96fc-bc526d5630f7\">\n",
              "    <div class=\"colab-df-container\">\n",
              "      <div>\n",
              "<style scoped>\n",
              "    .dataframe tbody tr th:only-of-type {\n",
              "        vertical-align: middle;\n",
              "    }\n",
              "\n",
              "    .dataframe tbody tr th {\n",
              "        vertical-align: top;\n",
              "    }\n",
              "\n",
              "    .dataframe thead th {\n",
              "        text-align: right;\n",
              "    }\n",
              "</style>\n",
              "<table border=\"1\" class=\"dataframe\">\n",
              "  <thead>\n",
              "    <tr style=\"text-align: right;\">\n",
              "      <th>pollutant</th>\n",
              "      <th>0</th>\n",
              "      <th>1</th>\n",
              "      <th>2</th>\n",
              "    </tr>\n",
              "    <tr>\n",
              "      <th>row_0</th>\n",
              "      <th></th>\n",
              "      <th></th>\n",
              "      <th></th>\n",
              "    </tr>\n",
              "  </thead>\n",
              "  <tbody>\n",
              "    <tr>\n",
              "      <th>0</th>\n",
              "      <td>2016</td>\n",
              "      <td>1454</td>\n",
              "      <td>226</td>\n",
              "    </tr>\n",
              "    <tr>\n",
              "      <th>1</th>\n",
              "      <td>832</td>\n",
              "      <td>1110</td>\n",
              "      <td>111</td>\n",
              "    </tr>\n",
              "    <tr>\n",
              "      <th>2</th>\n",
              "      <td>73</td>\n",
              "      <td>41</td>\n",
              "      <td>1563</td>\n",
              "    </tr>\n",
              "  </tbody>\n",
              "</table>\n",
              "</div>\n",
              "      <button class=\"colab-df-convert\" onclick=\"convertToInteractive('df-ab29f566-e837-40e8-96fc-bc526d5630f7')\"\n",
              "              title=\"Convert this dataframe to an interactive table.\"\n",
              "              style=\"display:none;\">\n",
              "        \n",
              "  <svg xmlns=\"http://www.w3.org/2000/svg\" height=\"24px\"viewBox=\"0 0 24 24\"\n",
              "       width=\"24px\">\n",
              "    <path d=\"M0 0h24v24H0V0z\" fill=\"none\"/>\n",
              "    <path d=\"M18.56 5.44l.94 2.06.94-2.06 2.06-.94-2.06-.94-.94-2.06-.94 2.06-2.06.94zm-11 1L8.5 8.5l.94-2.06 2.06-.94-2.06-.94L8.5 2.5l-.94 2.06-2.06.94zm10 10l.94 2.06.94-2.06 2.06-.94-2.06-.94-.94-2.06-.94 2.06-2.06.94z\"/><path d=\"M17.41 7.96l-1.37-1.37c-.4-.4-.92-.59-1.43-.59-.52 0-1.04.2-1.43.59L10.3 9.45l-7.72 7.72c-.78.78-.78 2.05 0 2.83L4 21.41c.39.39.9.59 1.41.59.51 0 1.02-.2 1.41-.59l7.78-7.78 2.81-2.81c.8-.78.8-2.07 0-2.86zM5.41 20L4 18.59l7.72-7.72 1.47 1.35L5.41 20z\"/>\n",
              "  </svg>\n",
              "      </button>\n",
              "      \n",
              "  <style>\n",
              "    .colab-df-container {\n",
              "      display:flex;\n",
              "      flex-wrap:wrap;\n",
              "      gap: 12px;\n",
              "    }\n",
              "\n",
              "    .colab-df-convert {\n",
              "      background-color: #E8F0FE;\n",
              "      border: none;\n",
              "      border-radius: 50%;\n",
              "      cursor: pointer;\n",
              "      display: none;\n",
              "      fill: #1967D2;\n",
              "      height: 32px;\n",
              "      padding: 0 0 0 0;\n",
              "      width: 32px;\n",
              "    }\n",
              "\n",
              "    .colab-df-convert:hover {\n",
              "      background-color: #E2EBFA;\n",
              "      box-shadow: 0px 1px 2px rgba(60, 64, 67, 0.3), 0px 1px 3px 1px rgba(60, 64, 67, 0.15);\n",
              "      fill: #174EA6;\n",
              "    }\n",
              "\n",
              "    [theme=dark] .colab-df-convert {\n",
              "      background-color: #3B4455;\n",
              "      fill: #D2E3FC;\n",
              "    }\n",
              "\n",
              "    [theme=dark] .colab-df-convert:hover {\n",
              "      background-color: #434B5C;\n",
              "      box-shadow: 0px 1px 3px 1px rgba(0, 0, 0, 0.15);\n",
              "      filter: drop-shadow(0px 1px 2px rgba(0, 0, 0, 0.3));\n",
              "      fill: #FFFFFF;\n",
              "    }\n",
              "  </style>\n",
              "\n",
              "      <script>\n",
              "        const buttonEl =\n",
              "          document.querySelector('#df-ab29f566-e837-40e8-96fc-bc526d5630f7 button.colab-df-convert');\n",
              "        buttonEl.style.display =\n",
              "          google.colab.kernel.accessAllowed ? 'block' : 'none';\n",
              "\n",
              "        async function convertToInteractive(key) {\n",
              "          const element = document.querySelector('#df-ab29f566-e837-40e8-96fc-bc526d5630f7');\n",
              "          const dataTable =\n",
              "            await google.colab.kernel.invokeFunction('convertToInteractive',\n",
              "                                                     [key], {});\n",
              "          if (!dataTable) return;\n",
              "\n",
              "          const docLinkHtml = 'Like what you see? Visit the ' +\n",
              "            '<a target=\"_blank\" href=https://colab.research.google.com/notebooks/data_table.ipynb>data table notebook</a>'\n",
              "            + ' to learn more about interactive tables.';\n",
              "          element.innerHTML = '';\n",
              "          dataTable['output_type'] = 'display_data';\n",
              "          await google.colab.output.renderOutput(dataTable, element);\n",
              "          const docLink = document.createElement('div');\n",
              "          docLink.innerHTML = docLinkHtml;\n",
              "          element.appendChild(docLink);\n",
              "        }\n",
              "      </script>\n",
              "    </div>\n",
              "  </div>\n",
              "  "
            ],
            "text/plain": [
              "pollutant     0     1     2\n",
              "row_0                      \n",
              "0          2016  1454   226\n",
              "1           832  1110   111\n",
              "2            73    41  1563"
            ]
          },
          "execution_count": 206,
          "metadata": {},
          "output_type": "execute_result"
        }
      ],
      "source": [
        "confusion_matrix = pd.crosstab(y_pred, y_test[TARGET])\n",
        "confusion_matrix"
      ]
    },
    {
      "cell_type": "code",
      "execution_count": null,
      "metadata": {
        "id": "nb3Ql4tRsFhP"
      },
      "outputs": [],
      "source": [
        "y_pred_train = model.predict(X_train)"
      ]
    },
    {
      "cell_type": "code",
      "execution_count": null,
      "metadata": {
        "colab": {
          "base_uri": "https://localhost:8080/"
        },
        "id": "7pZwzs4jsL1m",
        "outputId": "094eccbc-1a61-41d5-f141-e20c36e8d816"
      },
      "outputs": [
        {
          "name": "stdout",
          "output_type": "stream",
          "text": [
            "              precision    recall  f1-score   support\n",
            "\n",
            "           0       0.57      0.73      0.64     11696\n",
            "           1       0.60      0.47      0.53     10449\n",
            "           2       0.93      0.81      0.87      7556\n",
            "\n",
            "    accuracy                           0.66     29701\n",
            "   macro avg       0.70      0.67      0.68     29701\n",
            "weighted avg       0.67      0.66      0.66     29701\n",
            "\n"
          ]
        }
      ],
      "source": [
        "print(classification_report(y_train, y_pred_train, target_names=['0', '1', '2']))"
      ]
    }
  ],
  "metadata": {
    "colab": {
      "name": "benchmark copy.ipynb",
      "provenance": []
    },
    "interpreter": {
      "hash": "aee8b7b246df8f9039afb4144a1f6fd8d2ca17a180786b69acc140d282b71a49"
    },
    "kernelspec": {
      "display_name": "Python 3.8.5 64-bit",
      "language": "python",
      "name": "python3"
    },
    "language_info": {
      "codemirror_mode": {
        "name": "ipython",
        "version": 3
      },
      "file_extension": ".py",
      "mimetype": "text/x-python",
      "name": "python",
      "nbconvert_exporter": "python",
      "pygments_lexer": "ipython3",
      "version": "3.9.7"
    },
    "orig_nbformat": 4
  },
  "nbformat": 4,
  "nbformat_minor": 0
}
