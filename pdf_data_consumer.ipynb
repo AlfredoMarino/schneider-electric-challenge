{
 "cells": [
  {
   "cell_type": "code",
   "execution_count": 1,
   "outputs": [
    {
     "name": "stdout",
     "output_type": "stream",
     "text": [
      "Requirement already satisfied: PyPDF2 in c:\\users\\alfre\\anaconda3\\lib\\site-packages (1.27.12)\n"
     ]
    },
    {
     "name": "stderr",
     "output_type": "stream",
     "text": [
      "WARNING: You are using pip version 22.0.4; however, version 22.1 is available.\n",
      "You should consider upgrading via the 'C:\\Users\\alfre\\anaconda3\\python.exe -m pip install --upgrade pip' command.\n"
     ]
    }
   ],
   "source": [
    "# !pip install tabula-py\n",
    "!pip install PyPDF2"
   ],
   "metadata": {
    "collapsed": false,
    "pycharm": {
     "name": "#%%\n"
    }
   }
  },
  {
   "cell_type": "code",
   "execution_count": 2,
   "metadata": {
    "collapsed": true
   },
   "outputs": [],
   "source": [
    "# import tabula"
   ]
  },
  {
   "cell_type": "code",
   "execution_count": 3,
   "outputs": [],
   "source": [
    "# df = tabula.read_pdf(\"data/pdf/train6/pdfs81515.pdf\")"
   ],
   "metadata": {
    "collapsed": false,
    "pycharm": {
     "name": "#%%\n"
    }
   }
  },
  {
   "cell_type": "code",
   "execution_count": 4,
   "outputs": [],
   "source": [
    "# df"
   ],
   "metadata": {
    "collapsed": false,
    "pycharm": {
     "name": "#%%\n"
    }
   }
  },
  {
   "cell_type": "code",
   "execution_count": 5,
   "outputs": [
    {
     "name": "stdout",
     "output_type": "stream",
     "text": [
      "1\n",
      "RE PORT  C ONT AMI N AC I ÓN\n",
      "nº:\n",
      "81516\n",
      "FAC I LI T Y N AME:\n",
      "Fife Et hy lene P lant\n",
      "81516\n",
      "Fac i l i ty I ns pi r eI D:\n",
      "UK.SEP A/2 0 0 0 0 0 0 6 1 .Facility\n",
      "C OUNT RY :\n",
      "United Kingdo m\n",
      "C ONT I N EN T :\n",
      "EUROP E\n",
      "C I T Y:\n",
      "Co wdenbeat h\n",
      "EPR T RSec tor C ode:\n",
      "1\n",
      "epr tr Sec tor N ame:\n",
      "Energy  se cto r\n",
      "Mai nAc ti v i ty C ode:\n",
      "1 (c)\n",
      "tar g etR eal as e:\n",
      "AIR\n",
      "pol l utant:\n",
      "Carbo n diox ide (CO2 )\n",
      "emi s s i ons :\n",
      "6 ,8 E+ 0 8\n",
      "DA Y:\n",
      "12\n",
      "MONT H:\n",
      "4\n",
      "YEA R:\n",
      "2019\n",
      "MET EOROLOGI C AL  C ONDI T I ONS\n",
      "max_w i nd_s peed:\n",
      "1 ,5 2 E+ 1 6\n",
      "mi n_w i nd_s peed:\n",
      "2 ,0 6 E+ 1 5\n",
      "av g _w i nd_s peed:\n",
      "1 ,4 6 E+ 1 6\n",
      "max_temp:\n",
      "9 ,6 1 E+ 1 5\n",
      "mi n_temp:\n",
      "1 ,3 3 E+ 1 6\n",
      "av g _temp:\n",
      "8 ,6 9 E+ 1 5\n",
      "DA YS FOG:\n",
      "19\n",
      "RE PORT ER  N AME:\n",
      "Shawn Graham\n",
      "C I T Y_ I D\n",
      "3 c5 6 3 ab0 d7 6 fc8 4 1 2 8 5 7 4 b5 da8 2 f7 6 9 a\n",
      "\n"
     ]
    }
   ],
   "source": [
    "import PyPDF2\n",
    "# pdf file object\n",
    "# you can find find the pdf file with complete code in below\n",
    "pdfFileObj = open('data/pdf/pdfs81515.pdf', 'rb')\n",
    "# pdf reader object\n",
    "pdfReader = PyPDF2.PdfFileReader(pdfFileObj)\n",
    "# number of pages in pdf\n",
    "print(pdfReader.numPages)\n",
    "# a page object\n",
    "pageObj = pdfReader.getPage(0)\n",
    "# extracting text from page.\n",
    "# this will print the text you can also save that into String\n",
    "print(pageObj.extractText())"
   ],
   "metadata": {
    "collapsed": false,
    "pycharm": {
     "name": "#%%\n"
    }
   }
  },
  {
   "cell_type": "code",
   "execution_count": 6,
   "outputs": [
    {
     "name": "stdout",
     "output_type": "stream",
     "text": [
      "[]\n"
     ]
    }
   ],
   "source": [
    "print(pdfReader.getOutlines())"
   ],
   "metadata": {
    "collapsed": false,
    "pycharm": {
     "name": "#%%\n"
    }
   }
  },
  {
   "cell_type": "code",
   "execution_count": 7,
   "outputs": [],
   "source": [
    "lista = pageObj.extractText()"
   ],
   "metadata": {
    "collapsed": false,
    "pycharm": {
     "name": "#%%\n"
    }
   }
  },
  {
   "cell_type": "code",
   "execution_count": 8,
   "outputs": [
    {
     "data": {
      "text/plain": "str"
     },
     "execution_count": 8,
     "metadata": {},
     "output_type": "execute_result"
    }
   ],
   "source": [
    "type(lista)"
   ],
   "metadata": {
    "collapsed": false,
    "pycharm": {
     "name": "#%%\n"
    }
   }
  },
  {
   "cell_type": "code",
   "execution_count": 9,
   "outputs": [],
   "source": [
    "import re\n",
    "# demo = \" Demo  Example  \"\n",
    "# re.sub(r\"^\\s+\", \"\", lista)"
   ],
   "metadata": {
    "collapsed": false,
    "pycharm": {
     "name": "#%%\n"
    }
   }
  },
  {
   "cell_type": "code",
   "execution_count": 10,
   "outputs": [],
   "source": [
    "lista = lista.split(\"\\n\")"
   ],
   "metadata": {
    "collapsed": false,
    "pycharm": {
     "name": "#%%\n"
    }
   }
  },
  {
   "cell_type": "code",
   "execution_count": 10,
   "outputs": [],
   "source": [],
   "metadata": {
    "collapsed": false,
    "pycharm": {
     "name": "#%%\n"
    }
   }
  },
  {
   "cell_type": "code",
   "execution_count": 10,
   "outputs": [],
   "source": [],
   "metadata": {
    "collapsed": false,
    "pycharm": {
     "name": "#%%\n"
    }
   }
  }
 ],
 "metadata": {
  "kernelspec": {
   "display_name": "Python 3",
   "language": "python",
   "name": "python3"
  },
  "language_info": {
   "codemirror_mode": {
    "name": "ipython",
    "version": 2
   },
   "file_extension": ".py",
   "mimetype": "text/x-python",
   "name": "python",
   "nbconvert_exporter": "python",
   "pygments_lexer": "ipython2",
   "version": "2.7.6"
  }
 },
 "nbformat": 4,
 "nbformat_minor": 0
}